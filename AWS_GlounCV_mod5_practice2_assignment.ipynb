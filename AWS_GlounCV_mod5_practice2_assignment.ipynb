{
  "nbformat": 4,
  "nbformat_minor": 0,
  "metadata": {
    "coursera": {
      "assignment_name": "module_5_practice_2",
      "assignment_version": 2,
      "course_slug": "aws-computer-vision-gluoncv",
      "graded_item_id": "msW9J",
      "launcher_item_id": "GbekO"
    },
    "kernelspec": {
      "display_name": "Python 3",
      "language": "python",
      "name": "python3"
    },
    "language_info": {
      "codemirror_mode": {
        "name": "ipython",
        "version": 3
      },
      "file_extension": ".py",
      "mimetype": "text/x-python",
      "name": "python",
      "nbconvert_exporter": "python",
      "pygments_lexer": "ipython3",
      "version": "3.7.3"
    },
    "colab": {
      "name": "AWS_GlounCV-mod5_practice2_assignment.ipynb",
      "provenance": [],
      "include_colab_link": true
    }
  },
  "cells": [
    {
      "cell_type": "markdown",
      "metadata": {
        "id": "view-in-github",
        "colab_type": "text"
      },
      "source": [
        "<a href=\"https://colab.research.google.com/github/dfedeoli/portfolio/blob/main/AWS_GlounCV_mod5_practice2_assignment.ipynb\" target=\"_parent\"><img src=\"https://colab.research.google.com/assets/colab-badge.svg\" alt=\"Open In Colab\"/></a>"
      ]
    },
    {
      "cell_type": "markdown",
      "metadata": {
        "deletable": false,
        "editable": false,
        "nbgrader": {
          "cell_type": "markdown",
          "checksum": "b2689c52bf49c4e98395b76fff8836e9",
          "grade": false,
          "grade_id": "intro",
          "locked": true,
          "schema_version": 3,
          "solution": false
        },
        "id": "1ceBwqYb_hut"
      },
      "source": [
        "# Module 5 Lesson 4 Practice Assessment\n",
        "\n",
        "This lesson covered how to write a training loop in MXNet with the Gluon API and how to write a validation loop to evaluate a trained network. This practice assessment will allow you to become more familiar with these concepts."
      ]
    },
    {
      "cell_type": "code",
      "metadata": {
        "colab": {
          "base_uri": "https://localhost:8080/"
        },
        "id": "YP-Z7UUt_pfy",
        "outputId": "8e0bdb71-e247-4841-aebd-86560255e4a3"
      },
      "source": [
        "!pip install mxnet"
      ],
      "execution_count": 2,
      "outputs": [
        {
          "output_type": "stream",
          "text": [
            "Collecting mxnet\n",
            "\u001b[?25l  Downloading https://files.pythonhosted.org/packages/29/bb/54cbabe428351c06d10903c658878d29ee7026efbe45133fd133598d6eb6/mxnet-1.7.0.post1-py2.py3-none-manylinux2014_x86_64.whl (55.0MB)\n",
            "\u001b[K     |████████████████████████████████| 55.0MB 79kB/s \n",
            "\u001b[?25hCollecting graphviz<0.9.0,>=0.8.1\n",
            "  Downloading https://files.pythonhosted.org/packages/53/39/4ab213673844e0c004bed8a0781a0721a3f6bb23eb8854ee75c236428892/graphviz-0.8.4-py2.py3-none-any.whl\n",
            "Requirement already satisfied: requests<3,>=2.20.0 in /usr/local/lib/python3.6/dist-packages (from mxnet) (2.23.0)\n",
            "Requirement already satisfied: numpy<2.0.0,>1.16.0 in /usr/local/lib/python3.6/dist-packages (from mxnet) (1.19.5)\n",
            "Requirement already satisfied: urllib3!=1.25.0,!=1.25.1,<1.26,>=1.21.1 in /usr/local/lib/python3.6/dist-packages (from requests<3,>=2.20.0->mxnet) (1.24.3)\n",
            "Requirement already satisfied: certifi>=2017.4.17 in /usr/local/lib/python3.6/dist-packages (from requests<3,>=2.20.0->mxnet) (2020.12.5)\n",
            "Requirement already satisfied: chardet<4,>=3.0.2 in /usr/local/lib/python3.6/dist-packages (from requests<3,>=2.20.0->mxnet) (3.0.4)\n",
            "Requirement already satisfied: idna<3,>=2.5 in /usr/local/lib/python3.6/dist-packages (from requests<3,>=2.20.0->mxnet) (2.10)\n",
            "Installing collected packages: graphviz, mxnet\n",
            "  Found existing installation: graphviz 0.10.1\n",
            "    Uninstalling graphviz-0.10.1:\n",
            "      Successfully uninstalled graphviz-0.10.1\n",
            "Successfully installed graphviz-0.8.4 mxnet-1.7.0.post1\n"
          ],
          "name": "stdout"
        }
      ]
    },
    {
      "cell_type": "code",
      "metadata": {
        "deletable": false,
        "editable": false,
        "nbgrader": {
          "cell_type": "code",
          "checksum": "621c34526a57cbbcd1f295c35014653c",
          "grade": false,
          "grade_id": "cell-359ed2e0f0c07249",
          "locked": true,
          "schema_version": 3,
          "solution": false,
          "task": false
        },
        "id": "LAD_banE_hu3"
      },
      "source": [
        "from mxnet import nd, gluon, init, autograd, metric\n",
        "from mxnet.gluon import nn\n",
        "from mxnet.gluon.data.vision import datasets, transforms\n",
        "from pathlib import Path\n",
        "import os"
      ],
      "execution_count": 3,
      "outputs": []
    },
    {
      "cell_type": "code",
      "metadata": {
        "deletable": false,
        "editable": false,
        "nbgrader": {
          "cell_type": "code",
          "checksum": "019f7728e0251afe3ad28b132fb5d2a8",
          "grade": false,
          "grade_id": "cell-9dbb4ff8268cf6f1",
          "locked": true,
          "schema_version": 3,
          "solution": false,
          "task": false
        },
        "id": "KZolntUz_hu5"
      },
      "source": [
        "M5_DATA = Path(os.getenv('DATA_DIR', '../../data'), 'module_5')\n",
        "M5_IMAGES = Path(M5_DATA, 'images')\n",
        "M5_MODELS = Path(M5_DATA, 'models')"
      ],
      "execution_count": 4,
      "outputs": []
    },
    {
      "cell_type": "markdown",
      "metadata": {
        "deletable": false,
        "editable": false,
        "nbgrader": {
          "cell_type": "markdown",
          "checksum": "d9acccf4927be7a5d4da0180ab2d3937",
          "grade": false,
          "grade_id": "cell-276e56d96b09e097",
          "locked": true,
          "schema_version": 3,
          "solution": false,
          "task": false
        },
        "id": "va4LeEPF_hu5"
      },
      "source": [
        "## Prepare Dataset\n",
        "\n",
        "First, let's prepare the dataset we'll use for the training exercise. We will take the popular MNIST dataset but convert the labels so that it becomes a binary classification problem. To do this, we will simply set the label of all digits greater than 0 to 1. This means that we now have two labels. 0 for digit images that correspond to the handwritten 0 and 1 for all other digits in the MNIST dataset."
      ]
    },
    {
      "cell_type": "code",
      "metadata": {
        "deletable": false,
        "editable": false,
        "nbgrader": {
          "cell_type": "code",
          "checksum": "67f5059af6ffcbeeebdf859f733e785b",
          "grade": false,
          "grade_id": "cell-1e5132daa54bafcf",
          "locked": true,
          "schema_version": 3,
          "solution": false,
          "task": false
        },
        "colab": {
          "base_uri": "https://localhost:8080/"
        },
        "id": "NxVPoDh4_hu5",
        "outputId": "94e064a7-458b-4cff-f3d2-35bbb6bdfad0"
      },
      "source": [
        "train_data = datasets.MNIST(train=True, root=M5_IMAGES)\n",
        "train_data._label[train_data._label > 0] = 1\n",
        "\n",
        "val_data = datasets.MNIST(train=False, root=M5_IMAGES)\n",
        "val_data._label[val_data._label > 0] = 1\n",
        "\n",
        "batch_size = 128\n",
        "train_data = gluon.data.DataLoader(train_data.transform_first(transforms.ToTensor()),\n",
        "                                  batch_size = batch_size,\n",
        "                                   shuffle=True)\n",
        "val_data = gluon.data.DataLoader(val_data.transform_first(transforms.ToTensor()),\n",
        "                                 batch_size = batch_size,\n",
        "                                 shuffle=False)"
      ],
      "execution_count": 5,
      "outputs": [
        {
          "output_type": "stream",
          "text": [
            "Downloading ../../data/module_5/images/train-images-idx3-ubyte.gz from https://apache-mxnet.s3-accelerate.dualstack.amazonaws.com/gluon/dataset/mnist/train-images-idx3-ubyte.gz...\n",
            "Downloading ../../data/module_5/images/train-labels-idx1-ubyte.gz from https://apache-mxnet.s3-accelerate.dualstack.amazonaws.com/gluon/dataset/mnist/train-labels-idx1-ubyte.gz...\n",
            "Downloading ../../data/module_5/images/t10k-images-idx3-ubyte.gz from https://apache-mxnet.s3-accelerate.dualstack.amazonaws.com/gluon/dataset/mnist/t10k-images-idx3-ubyte.gz...\n",
            "Downloading ../../data/module_5/images/t10k-labels-idx1-ubyte.gz from https://apache-mxnet.s3-accelerate.dualstack.amazonaws.com/gluon/dataset/mnist/t10k-labels-idx1-ubyte.gz...\n"
          ],
          "name": "stdout"
        }
      ]
    },
    {
      "cell_type": "markdown",
      "metadata": {
        "deletable": false,
        "editable": false,
        "nbgrader": {
          "cell_type": "markdown",
          "checksum": "1f9afaceee08fa4d524b00e61a5a9ae8",
          "grade": false,
          "grade_id": "cell-068d2a69ea3b24d3",
          "locked": true,
          "schema_version": 3,
          "solution": false,
          "task": false
        },
        "id": "H-UInNlr_hu6"
      },
      "source": [
        "---\n",
        "## Question 1\n",
        "\n",
        "Now you will get some practice defining a network that solve the binary classification task. Fill in the function to define a network based on the LeNet architecture from the lesson but instead of 10 output layers for the original MNIST data, you should have 2 output layers for the modified task. The function should also return the loss function for the classification problem."
      ]
    },
    {
      "cell_type": "code",
      "metadata": {
        "deletable": false,
        "nbgrader": {
          "cell_type": "code",
          "checksum": "c3391433804f81df3db4619d3fdc9137",
          "grade": false,
          "grade_id": "network",
          "locked": false,
          "schema_version": 3,
          "solution": true
        },
        "id": "nlSag4Pb_hu6"
      },
      "source": [
        "def get_network():\n",
        "    \"\"\"\n",
        "    Should create the LeNet 10 network but with 2 output units instead of 10 and return a classification loss function\n",
        "    \n",
        "    :return: the network and the loss function\n",
        "    :rtype: (gluon.Block, gluon.Block)\n",
        "    \"\"\"\n",
        "    \n",
        "    net = None\n",
        "    loss_fn = None\n",
        "    \n",
        "    # create a newtork\n",
        "    # YOUR CODE HERE\n",
        "    net = nn.Sequential()\n",
        "    net.add(\n",
        "        nn.Conv2D(channels=6, kernel_size=5, activation='relu'),\n",
        "        nn.MaxPool2D(2,2),\n",
        "        nn.Conv2D(channels=16, kernel_size=3, activation='relu'),\n",
        "        nn.MaxPool2D(2,2),\n",
        "        #nn.Flatten(),\n",
        "        nn.Dense(120, activation=\"relu\"),\n",
        "        nn.Dense(84, activation=\"relu\"),\n",
        "        nn.Dense(2))\n",
        "    \n",
        "    net.initialize(init=init.Xavier())\n",
        "    \n",
        "    # choose and set loss_fn for a classification task\n",
        "    # YOUR CODE HERE\n",
        "    loss_fn = gluon.loss.SoftmaxCrossEntropyLoss()\n",
        "    \n",
        "    return net, loss_fn"
      ],
      "execution_count": 6,
      "outputs": []
    },
    {
      "cell_type": "code",
      "metadata": {
        "deletable": false,
        "editable": false,
        "nbgrader": {
          "cell_type": "code",
          "checksum": "ff89877b3179a15f90af1553d2be2164",
          "grade": true,
          "grade_id": "cell-45b64f058f5bfde6",
          "locked": true,
          "points": 3,
          "schema_version": 3,
          "solution": false,
          "task": false
        },
        "id": "38aCdfIG_hu7"
      },
      "source": [
        "n, loss_fn = get_network()\n",
        "\n",
        "assert isinstance(n[0], nn.Conv2D)\n",
        "assert isinstance(n[2], nn.Conv2D)\n",
        "assert isinstance(n[1], nn.MaxPool2D)\n",
        "assert isinstance(n[3], nn.MaxPool2D)\n",
        "\n",
        "for l in n[-3:]:\n",
        "    assert isinstance(l, nn.Dense)"
      ],
      "execution_count": 7,
      "outputs": []
    },
    {
      "cell_type": "markdown",
      "metadata": {
        "deletable": false,
        "editable": false,
        "nbgrader": {
          "cell_type": "markdown",
          "checksum": "a767fdc3ff413daaca7018bd508d1438",
          "grade": false,
          "grade_id": "cell-43ee1657d75563e4",
          "locked": true,
          "schema_version": 3,
          "solution": false,
          "task": false
        },
        "id": "onmJO6qZ_hu7"
      },
      "source": [
        "If you implemented the above function correctly, the code cell below should print a 7 layer neural network similar to LeNet but with the final layer being a 2 unit fully-connected or Dense Layer. It should also print a description of the loss function."
      ]
    },
    {
      "cell_type": "code",
      "metadata": {
        "deletable": false,
        "editable": false,
        "nbgrader": {
          "cell_type": "code",
          "checksum": "bc5955992256d020782b43dd6ba1bd0d",
          "grade": false,
          "grade_id": "cell-b7e129d1377cd465",
          "locked": true,
          "schema_version": 3,
          "solution": false,
          "task": false
        },
        "colab": {
          "base_uri": "https://localhost:8080/"
        },
        "id": "p7Q9VCrW_hu8",
        "outputId": "e86b7243-b57e-4e53-b7a2-43cb85eb718a"
      },
      "source": [
        "print(get_network())"
      ],
      "execution_count": 8,
      "outputs": [
        {
          "output_type": "stream",
          "text": [
            "(Sequential(\n",
            "  (0): Conv2D(None -> 6, kernel_size=(5, 5), stride=(1, 1), Activation(relu))\n",
            "  (1): MaxPool2D(size=(2, 2), stride=(2, 2), padding=(0, 0), ceil_mode=False, global_pool=False, pool_type=max, layout=NCHW)\n",
            "  (2): Conv2D(None -> 16, kernel_size=(3, 3), stride=(1, 1), Activation(relu))\n",
            "  (3): MaxPool2D(size=(2, 2), stride=(2, 2), padding=(0, 0), ceil_mode=False, global_pool=False, pool_type=max, layout=NCHW)\n",
            "  (4): Dense(None -> 120, Activation(relu))\n",
            "  (5): Dense(None -> 84, Activation(relu))\n",
            "  (6): Dense(None -> 2, linear)\n",
            "), SoftmaxCrossEntropyLoss(batch_axis=0, w=None))\n"
          ],
          "name": "stdout"
        }
      ]
    },
    {
      "cell_type": "markdown",
      "metadata": {
        "deletable": false,
        "editable": false,
        "nbgrader": {
          "cell_type": "markdown",
          "checksum": "af1e24bd008aff75ddaa67d4c8fd6a31",
          "grade": false,
          "grade_id": "cell-28e9acc399e665c4",
          "locked": true,
          "schema_version": 3,
          "solution": false,
          "task": false
        },
        "id": "riWS3Ray_hu9"
      },
      "source": [
        "## Question 2\n",
        "\n",
        "In the function definition below write the training loop so you can use the function to train the network you defined earlier. As training progress, print out the current loss and training accuracy metric after every epoch. The loss function is passed in to the function as an argument but you can create a metric accumulator for accuracy using `mxnet.metric.Accuracy`. For model parameter updates you will need to construct a trainer. Use the following values for the optimization hyperparameters.\n",
        "\n",
        "* optimizer - `sgd`\n",
        "* learning_rate - `0.1`"
      ]
    },
    {
      "cell_type": "code",
      "metadata": {
        "deletable": false,
        "nbgrader": {
          "cell_type": "code",
          "checksum": "d77b684db943bcd93bef68b54d3b8524",
          "grade": false,
          "grade_id": "train",
          "locked": false,
          "schema_version": 3,
          "solution": true
        },
        "id": "u6yK4iVz_hu9"
      },
      "source": [
        "def train(net, loss_fn, train_data, epochs, batch_size):\n",
        "    \"\"\"\n",
        "    Should take an initialized network and train that network using data from the data loader.\n",
        "    \n",
        "    :param network: initialized gluon network to be trained\n",
        "    :type network: gluon.Block\n",
        "    \n",
        "    :param loss_fn: the loss function\n",
        "    :type loss_fn: gluon.Block\n",
        "    \n",
        "    :param train_data: the training DataLoader provides batches for data for every iteration\n",
        "    :type train_data: gluon.data.DataLoader\n",
        "    \n",
        "    :param epochs: number of epochs to train the DataLoader\n",
        "    :type epochs: int\n",
        "    \n",
        "    :param batch_size: batch size for the DataLoader.\n",
        "    :type batch_size: int\n",
        "    \n",
        "    :return: tuple of trained network and the final training accuracy\n",
        "    :rtype: (gluon.Block, float)\n",
        "    \"\"\"\n",
        "    \n",
        "    # YOUR CODE HERE\n",
        "    train_acc = metric.Accuracy()\n",
        "    trainer = gluon.Trainer(net.collect_params(), 'sgd', {'learning_rate':0.1})\n",
        "    \n",
        "    for epoch in range(epochs):\n",
        "        train_loss = 0\n",
        "        for data, label in train_data:\n",
        "            with autograd.record():\n",
        "                output = net(data)\n",
        "                loss = loss_fn(output, label)\n",
        "            loss.backward()\n",
        "            \n",
        "            trainer.step(batch_size)\n",
        "            \n",
        "            train_loss += loss.mean().asscalar()\n",
        "            train_acc.update(label, output)\n",
        "        \n",
        "        print('Epoch[%d] Loss:%.3f Acc:%.3f'%(\n",
        "            epoch, train_loss/len(train_data),\n",
        "            train_acc.get()[1]))\n",
        "    net.save_parameters(\"trained_net.params\")\n",
        "    return net, train_acc.get()[1]"
      ],
      "execution_count": 9,
      "outputs": []
    },
    {
      "cell_type": "markdown",
      "metadata": {
        "deletable": false,
        "editable": false,
        "nbgrader": {
          "cell_type": "markdown",
          "checksum": "2672f304ef2dd9eb266cbe95db4225f2",
          "grade": false,
          "grade_id": "cell-19a2a52e065d0413",
          "locked": true,
          "schema_version": 3,
          "solution": false,
          "task": false
        },
        "id": "SNm6nqp3_hu-"
      },
      "source": [
        "We're running through the dataset twice (i.e. 2 epochs) in the next cell, so this could take a few minutes."
      ]
    },
    {
      "cell_type": "code",
      "metadata": {
        "deletable": false,
        "editable": false,
        "nbgrader": {
          "cell_type": "code",
          "checksum": "80f8fcaa9c6b0176e634d67c2bbd44c4",
          "grade": true,
          "grade_id": "cell-57ea0a4606874ada",
          "locked": true,
          "points": 5,
          "schema_version": 3,
          "solution": false,
          "task": false
        },
        "colab": {
          "base_uri": "https://localhost:8080/"
        },
        "id": "sXfFdtWF_hu_",
        "outputId": "8d135819-1c1c-48fa-b557-be8732ebbe49"
      },
      "source": [
        "n, ta = train(*get_network(), train_data, 2, batch_size)\n",
        "assert ta >= .98"
      ],
      "execution_count": 10,
      "outputs": [
        {
          "output_type": "stream",
          "text": [
            "Epoch[0] Loss:0.053 Acc:0.983\n",
            "Epoch[1] Loss:0.015 Acc:0.989\n"
          ],
          "name": "stdout"
        }
      ]
    },
    {
      "cell_type": "markdown",
      "metadata": {
        "deletable": false,
        "editable": false,
        "nbgrader": {
          "cell_type": "markdown",
          "checksum": "92eeb57c3dad4097e25553ee3c6fff2a",
          "grade": false,
          "grade_id": "cell-6fffd482025432fd",
          "locked": true,
          "schema_version": 3,
          "solution": false,
          "task": false
        },
        "id": "_pfwh9hk_hvA"
      },
      "source": [
        "If you have implemented the function above correctly, the code below should print a line after every epoch and you should the loss go down and the accuracy go up. After 5 epochs you should have accuracies that are well past .99 (but this might take a few minutes to run)."
      ]
    },
    {
      "cell_type": "code",
      "metadata": {
        "deletable": false,
        "editable": false,
        "nbgrader": {
          "cell_type": "code",
          "checksum": "330fa82f61848a2ca005ddf311158460",
          "grade": false,
          "grade_id": "cell-47331cc63ad50233",
          "locked": true,
          "schema_version": 3,
          "solution": false,
          "task": false
        },
        "colab": {
          "base_uri": "https://localhost:8080/"
        },
        "id": "EhJuKtIJ_hvA",
        "outputId": "67cb9032-de27-45ff-a271-0225d226bf0a"
      },
      "source": [
        "net, ta = train(*get_network(), train_data, 5, batch_size)"
      ],
      "execution_count": 11,
      "outputs": [
        {
          "output_type": "stream",
          "text": [
            "Epoch[0] Loss:0.053 Acc:0.982\n",
            "Epoch[1] Loss:0.013 Acc:0.989\n",
            "Epoch[2] Loss:0.010 Acc:0.992\n",
            "Epoch[3] Loss:0.008 Acc:0.993\n",
            "Epoch[4] Loss:0.006 Acc:0.994\n"
          ],
          "name": "stdout"
        }
      ]
    },
    {
      "cell_type": "markdown",
      "metadata": {
        "deletable": false,
        "editable": false,
        "nbgrader": {
          "cell_type": "markdown",
          "checksum": "6b5cba3a4555642bbb791d92240f0f6d",
          "grade": false,
          "grade_id": "cell-e35f60204380c3db",
          "locked": true,
          "schema_version": 3,
          "solution": false,
          "task": false
        },
        "id": "lPmeOvDJ_hvB"
      },
      "source": [
        "---\n",
        "## Question 3\n",
        "\n",
        "Now fill in the function below to evaluate the model on the validation dataset. The function should only do one pass through the validation dataset and should report back the model accuracy."
      ]
    },
    {
      "cell_type": "code",
      "metadata": {
        "deletable": false,
        "nbgrader": {
          "cell_type": "code",
          "checksum": "c722f2d13e1fd4e7be136bfd24fdc7d6",
          "grade": false,
          "grade_id": "validate",
          "locked": false,
          "schema_version": 3,
          "solution": true,
          "task": false
        },
        "id": "x4K_gFU4_hvC"
      },
      "source": [
        "def evaluate(network, dataloader):\n",
        "    \"\"\"\n",
        "    Should compute the accuracy of the network on the validation set.\n",
        "    \n",
        "    :param network: initialized gluon network to be trained\n",
        "    :type network: gluon.Block\n",
        "    \n",
        "    :param dataloader: the validation DataLoader provides batches for data for every iteration\n",
        "    :type dataloader: gluon.data.DataLoader\n",
        "    \n",
        "    :return: validation accuracy\n",
        "    :rtype: float\n",
        "    \"\"\"\n",
        "    \n",
        "    # YOUR CODE HERE\n",
        "    network.load_parameters('trained_net.params')\n",
        "    mnist_valid = datasets.MNIST(train=False, root=M5_IMAGES)\n",
        "    transform_fn = transforms.Compose([\n",
        "        transforms.ToTensor(),\n",
        "        transforms.Normalize(0.13,0.31)])\n",
        "    preds = []\n",
        "    \n",
        "    for idx in range(len(mnist_valid)):\n",
        "        image, label = mnist_valid[idx]\n",
        "        image = transform_fn(image).expand_dims(axis=0)\n",
        "        pred = network(image).argmax(axis=1)\n",
        "        preds.append(pred.astype('int32').asscalar())\n",
        "    \n",
        "    valid_acc = metric.Accuracy()\n",
        "    \n",
        "    for data, label in dataloader:\n",
        "        output = network(data)\n",
        "        valid_acc.update(label, output)\n",
        "    \n",
        "    print(\"Validation Acc: %.3f\"%(valid_acc.get()[1]))\n",
        "    return valid_acc.get()[1]"
      ],
      "execution_count": 12,
      "outputs": []
    },
    {
      "cell_type": "code",
      "metadata": {
        "deletable": false,
        "editable": false,
        "nbgrader": {
          "cell_type": "code",
          "checksum": "4b2945245b240bafe5a46da9a41a0631",
          "grade": true,
          "grade_id": "cell-7de9f040506452ff",
          "locked": true,
          "points": 2,
          "schema_version": 3,
          "solution": false,
          "task": false
        },
        "colab": {
          "base_uri": "https://localhost:8080/"
        },
        "id": "22NhTDRE_hvC",
        "outputId": "4c90a9e1-370f-40cb-d1f3-063034087d7a"
      },
      "source": [
        "assert evaluate(net, val_data) > .98"
      ],
      "execution_count": 13,
      "outputs": [
        {
          "output_type": "stream",
          "text": [
            "Validation Acc: 0.998\n"
          ],
          "name": "stdout"
        }
      ]
    },
    {
      "cell_type": "markdown",
      "metadata": {
        "deletable": false,
        "editable": false,
        "nbgrader": {
          "cell_type": "markdown",
          "checksum": "ccaf6b9dfdbe710b359d6afedfd5b693",
          "grade": false,
          "grade_id": "cell-7beab9f627e1e7a5",
          "locked": true,
          "schema_version": 3,
          "solution": false,
          "task": false
        },
        "id": "cCOZOf_S_hvD"
      },
      "source": [
        "If you implemented the function above correctly, then the cell below should print a validation accuracy of around 0.99 as well."
      ]
    },
    {
      "cell_type": "code",
      "metadata": {
        "deletable": false,
        "editable": false,
        "nbgrader": {
          "cell_type": "code",
          "checksum": "b26ebc9ded9f87bc4b11c887356171fa",
          "grade": false,
          "grade_id": "cell-412016fc5caf4711",
          "locked": true,
          "schema_version": 3,
          "solution": false,
          "task": false
        },
        "colab": {
          "base_uri": "https://localhost:8080/"
        },
        "id": "g4nP-waN_hvD",
        "outputId": "4869204f-e69c-48e8-f86a-1064f3c085cc"
      },
      "source": [
        "print(\"Validation Acc: %.3f \"%(evaluate(net, val_data)))"
      ],
      "execution_count": 14,
      "outputs": [
        {
          "output_type": "stream",
          "text": [
            "Validation Acc: 0.998\n",
            "Validation Acc: 0.998 \n"
          ],
          "name": "stdout"
        }
      ]
    }
  ]
}