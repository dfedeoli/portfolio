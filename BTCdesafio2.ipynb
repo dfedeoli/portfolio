{
  "nbformat": 4,
  "nbformat_minor": 0,
  "metadata": {
    "kernelspec": {
      "display_name": "Python 3",
      "language": "python",
      "name": "python3"
    },
    "language_info": {
      "codemirror_mode": {
        "name": "ipython",
        "version": 3
      },
      "file_extension": ".py",
      "mimetype": "text/x-python",
      "name": "python",
      "nbconvert_exporter": "python",
      "pygments_lexer": "ipython3",
      "version": "3.8.3"
    },
    "colab": {
      "name": "BTCdesafio2.ipynb",
      "provenance": [],
      "collapsed_sections": [],
      "include_colab_link": true
    }
  },
  "cells": [
    {
      "cell_type": "markdown",
      "metadata": {
        "id": "view-in-github",
        "colab_type": "text"
      },
      "source": [
        "<a href=\"https://colab.research.google.com/github/dfedeoli/portfolio/blob/main/BTCdesafio2.ipynb\" target=\"_parent\"><img src=\"https://colab.research.google.com/assets/colab-badge.svg\" alt=\"Open In Colab\"/></a>"
      ]
    },
    {
      "cell_type": "markdown",
      "metadata": {
        "collapsed": true,
        "id": "1C2OvLm0-l9D"
      },
      "source": [
        "# MARATONA BEHIND THE CODE 2020\n",
        "\n",
        "## DESAFIO 2: UNINASSAU"
      ]
    },
    {
      "cell_type": "markdown",
      "metadata": {
        "id": "zIUDXhoNQYDI"
      },
      "source": [
        "Proposição do Desafio: https://github.com/maratonadev-br/desafio-2-2020"
      ]
    },
    {
      "cell_type": "markdown",
      "metadata": {
        "id": "n964kxNi-l9F"
      },
      "source": [
        "### Instalando bibliotecas"
      ]
    },
    {
      "cell_type": "code",
      "metadata": {
        "id": "Im6f0mEt-l9H",
        "colab": {
          "base_uri": "https://localhost:8080/"
        },
        "outputId": "8f115ecf-5149-4687-c9c5-feedc97db40d"
      },
      "source": [
        "# Em seguida iremos importar diversas bibliotecas que serão utilizadas:\n",
        "\n",
        "# Pacote para trabalhar com JSON\n",
        "import json\n",
        "\n",
        "# Pacote para realizar requisições HTTP\n",
        "import requests\n",
        "\n",
        "# Pacote para exploração e análise de dados\n",
        "import pandas as pd\n",
        "\n",
        "# Pacote com métodos numéricos e representações matriciais\n",
        "import numpy as np\n",
        "\n",
        "# Pacote para construção de modelo baseado na técnica Gradient Boosting\n",
        "import xgboost as xgb\n",
        "\n",
        "# Pacotes do scikit-learn para pré-processamento de dados\n",
        "# \"SimpleImputer\" é uma transformação para preencher valores faltantes em conjuntos de dados\n",
        "from sklearn.impute import SimpleImputer\n",
        "\n",
        "# Pacotes do scikit-learn para treinamento de modelos e construção de pipelines\n",
        "# Método para separação de conjunto de dados em amostras de treino e teste\n",
        "from sklearn.model_selection import train_test_split\n",
        "# Método para criação de modelos baseados em árvores de decisão\n",
        "from sklearn.tree import DecisionTreeClassifier\n",
        "# Classe para a criação de uma pipeline de machine-learning\n",
        "from sklearn.pipeline import Pipeline\n",
        "\n",
        "# Pacotes do scikit-learn para avaliação de modelos\n",
        "# Métodos para validação cruzada do modelo criado\n",
        "from sklearn.model_selection import KFold, cross_validate\n",
        "\n",
        "from sklearn.metrics import classification_report\n",
        "\n",
        "from imblearn.over_sampling import SMOTE\n",
        "from imblearn.combine import SMOTETomek\n",
        "from imblearn.under_sampling import TomekLinks"
      ],
      "execution_count": 34,
      "outputs": [
        {
          "output_type": "stream",
          "text": [
            "/usr/local/lib/python3.6/dist-packages/sklearn/externals/six.py:31: FutureWarning: The module is deprecated in version 0.21 and will be removed in version 0.23 since we've dropped support for Python 2.7. Please rely on the official version of six (https://pypi.org/project/six/).\n",
            "  \"(https://pypi.org/project/six/).\", FutureWarning)\n",
            "/usr/local/lib/python3.6/dist-packages/sklearn/utils/deprecation.py:144: FutureWarning: The sklearn.neighbors.base module is  deprecated in version 0.22 and will be removed in version 0.24. The corresponding classes / functions should instead be imported from sklearn.neighbors. Anything that cannot be imported from sklearn.neighbors is now part of the private API.\n",
            "  warnings.warn(message, FutureWarning)\n"
          ],
          "name": "stderr"
        }
      ]
    },
    {
      "cell_type": "markdown",
      "metadata": {
        "id": "ykgP4357-l9I"
      },
      "source": [
        "## Download dos conjuntos de dados em formato .csv"
      ]
    },
    {
      "cell_type": "code",
      "metadata": {
        "id": "NVBXtSZi-l9I",
        "colab": {
          "base_uri": "https://localhost:8080/",
          "height": 518
        },
        "outputId": "d34a171e-4406-4c23-b89b-b58274b58c18"
      },
      "source": [
        "!wget --no-check-certificate --content-disposition https://raw.githubusercontent.com/maratonadev-br/desafio-2-2020/master/Assets/Data/dataset_desafio_2.csv\n",
        "df_training_dataset = pd.read_csv(r'dataset_desafio_2.csv')\n",
        "df_training_dataset.tail()"
      ],
      "execution_count": 2,
      "outputs": [
        {
          "output_type": "stream",
          "text": [
            "--2021-01-21 14:14:00--  https://raw.githubusercontent.com/maratonadev-br/desafio-2-2020/master/Assets/Data/dataset_desafio_2.csv\n",
            "Resolving raw.githubusercontent.com (raw.githubusercontent.com)... 151.101.0.133, 151.101.64.133, 151.101.128.133, ...\n",
            "Connecting to raw.githubusercontent.com (raw.githubusercontent.com)|151.101.0.133|:443... connected.\n",
            "HTTP request sent, awaiting response... 200 OK\n",
            "Length: 1500234 (1.4M) [text/plain]\n",
            "Saving to: ‘dataset_desafio_2.csv’\n",
            "\n",
            "dataset_desafio_2.c 100%[===================>]   1.43M  --.-KB/s    in 0.07s   \n",
            "\n",
            "2021-01-21 14:14:01 (21.2 MB/s) - ‘dataset_desafio_2.csv’ saved [1500234/1500234]\n",
            "\n"
          ],
          "name": "stdout"
        },
        {
          "output_type": "execute_result",
          "data": {
            "text/html": [
              "<div>\n",
              "<style scoped>\n",
              "    .dataframe tbody tr th:only-of-type {\n",
              "        vertical-align: middle;\n",
              "    }\n",
              "\n",
              "    .dataframe tbody tr th {\n",
              "        vertical-align: top;\n",
              "    }\n",
              "\n",
              "    .dataframe thead th {\n",
              "        text-align: right;\n",
              "    }\n",
              "</style>\n",
              "<table border=\"1\" class=\"dataframe\">\n",
              "  <thead>\n",
              "    <tr style=\"text-align: right;\">\n",
              "      <th></th>\n",
              "      <th>MATRICULA</th>\n",
              "      <th>NOME</th>\n",
              "      <th>REPROVACOES_DE</th>\n",
              "      <th>REPROVACOES_EM</th>\n",
              "      <th>REPROVACOES_MF</th>\n",
              "      <th>REPROVACOES_GO</th>\n",
              "      <th>NOTA_DE</th>\n",
              "      <th>NOTA_EM</th>\n",
              "      <th>NOTA_MF</th>\n",
              "      <th>NOTA_GO</th>\n",
              "      <th>INGLES</th>\n",
              "      <th>H_AULA_PRES</th>\n",
              "      <th>TAREFAS_ONLINE</th>\n",
              "      <th>FALTAS</th>\n",
              "      <th>PERFIL</th>\n",
              "    </tr>\n",
              "  </thead>\n",
              "  <tbody>\n",
              "    <tr>\n",
              "      <th>19995</th>\n",
              "      <td>856673</td>\n",
              "      <td>Laércio Mário da Silva</td>\n",
              "      <td>0</td>\n",
              "      <td>0</td>\n",
              "      <td>0</td>\n",
              "      <td>0</td>\n",
              "      <td>7.0</td>\n",
              "      <td>7.9</td>\n",
              "      <td>5.8</td>\n",
              "      <td>7.0</td>\n",
              "      <td>1.0</td>\n",
              "      <td>9</td>\n",
              "      <td>5</td>\n",
              "      <td>6</td>\n",
              "      <td>EXATAS</td>\n",
              "    </tr>\n",
              "    <tr>\n",
              "      <th>19996</th>\n",
              "      <td>576100</td>\n",
              "      <td>Cibele Quésia Poza</td>\n",
              "      <td>1</td>\n",
              "      <td>1</td>\n",
              "      <td>1</td>\n",
              "      <td>1</td>\n",
              "      <td>0.0</td>\n",
              "      <td>0.0</td>\n",
              "      <td>0.0</td>\n",
              "      <td>NaN</td>\n",
              "      <td>1.0</td>\n",
              "      <td>3</td>\n",
              "      <td>2</td>\n",
              "      <td>5</td>\n",
              "      <td>DIFICULDADE</td>\n",
              "    </tr>\n",
              "    <tr>\n",
              "      <th>19997</th>\n",
              "      <td>888739</td>\n",
              "      <td>Marcielle Chale Bape</td>\n",
              "      <td>0</td>\n",
              "      <td>0</td>\n",
              "      <td>0</td>\n",
              "      <td>0</td>\n",
              "      <td>7.9</td>\n",
              "      <td>7.6</td>\n",
              "      <td>8.3</td>\n",
              "      <td>7.2</td>\n",
              "      <td>NaN</td>\n",
              "      <td>8</td>\n",
              "      <td>3</td>\n",
              "      <td>1</td>\n",
              "      <td>EXCELENTE</td>\n",
              "    </tr>\n",
              "    <tr>\n",
              "      <th>19998</th>\n",
              "      <td>722743</td>\n",
              "      <td>Suzanne Mirian Mourão</td>\n",
              "      <td>0</td>\n",
              "      <td>0</td>\n",
              "      <td>1</td>\n",
              "      <td>1</td>\n",
              "      <td>6.3</td>\n",
              "      <td>5.1</td>\n",
              "      <td>0.0</td>\n",
              "      <td>0.0</td>\n",
              "      <td>1.0</td>\n",
              "      <td>3</td>\n",
              "      <td>2</td>\n",
              "      <td>6</td>\n",
              "      <td>DIFICULDADE</td>\n",
              "    </tr>\n",
              "    <tr>\n",
              "      <th>19999</th>\n",
              "      <td>417268</td>\n",
              "      <td>Maria Isaiane da Silva Luwequisman</td>\n",
              "      <td>0</td>\n",
              "      <td>0</td>\n",
              "      <td>1</td>\n",
              "      <td>1</td>\n",
              "      <td>7.0</td>\n",
              "      <td>7.3</td>\n",
              "      <td>0.0</td>\n",
              "      <td>0.0</td>\n",
              "      <td>NaN</td>\n",
              "      <td>3</td>\n",
              "      <td>0</td>\n",
              "      <td>6</td>\n",
              "      <td>DIFICULDADE</td>\n",
              "    </tr>\n",
              "  </tbody>\n",
              "</table>\n",
              "</div>"
            ],
            "text/plain": [
              "       MATRICULA                                NOME  ...  FALTAS       PERFIL\n",
              "19995     856673              Laércio Mário da Silva  ...       6       EXATAS\n",
              "19996     576100                  Cibele Quésia Poza  ...       5  DIFICULDADE\n",
              "19997     888739                Marcielle Chale Bape  ...       1    EXCELENTE\n",
              "19998     722743               Suzanne Mirian Mourão  ...       6  DIFICULDADE\n",
              "19999     417268  Maria Isaiane da Silva Luwequisman  ...       6  DIFICULDADE\n",
              "\n",
              "[5 rows x 15 columns]"
            ]
          },
          "metadata": {
            "tags": []
          },
          "execution_count": 2
        }
      ]
    },
    {
      "cell_type": "markdown",
      "metadata": {
        "id": "iQvExan--l9I"
      },
      "source": [
        "Temos 15 colunas presentes no dataset fornecido, sendo dezessete delas variáveis características (dados de entrada) e um delas uma variável-alvo (que queremos que o nosso modelo seja capaz de prever). \n",
        "\n",
        "As variáveis características são:\n",
        "\n",
        "    MATRICULA       - número de matrícula do estudante\n",
        "    NOME            - nome completo do estudante\n",
        "    REPROVACOES_DE  - número de reprovações na disciplina de ``Direito Empresarial``\n",
        "    REPROVACOES_EM  - número de reprovações na disciplina de ``Empreendedorismo``\n",
        "    REPROVACOES_MF  - número de reprovações na disciplina de ``Matemática Financeira``\n",
        "    REPROVACOES_GO  - número de reprovações na disciplina de ``Gestão Operacional``\n",
        "    NOTA_DE         - média simples das notas do aluno na disciplina de ``Direito Empresarial`` (0-10)\n",
        "    NOTA_EM         - média simples das notas do aluno na disciplina de ``Empreendedorismo`` (0-10)\n",
        "    NOTA_MF         - média simples das notas do aluno na disciplina de ``Matemática Financeira`` (0-10)\n",
        "    NOTA_GO         - média simples das notas do aluno na disciplina de ``Gestão Operacional`` (0-10)\n",
        "    INGLES          - variável binária que indica se o estudante tem conhecimento em língua inglesa (0 -> sim ou 1 -> não).\n",
        "    H_AULA_PRES     - horas de estudo presencial realizadas pelo estudante\n",
        "    TAREFAS_ONLINE  - número de tarefas online entregues pelo estudante\n",
        "    FALTAS          - número de faltas acumuladas do estudante (todas disciplinas)\n",
        "    \n",
        "A variável-alvo é:\n",
        "\n",
        "    PERFIL               - uma *string* que indica uma de cinco possibilidades: \n",
        "        \"EXCELENTE\"      - Estudante não necessita de mentoria\n",
        "        \"MUITO BOM\"      - Estudante não necessita de mentoria\n",
        "        \"HUMANAS\"        - Estudante necessita de mentoria exclusivamente em matérias com conteúdo de ciências humanas\n",
        "        \"EXATAS\"         - Estudante necessita de mentoria apenas em disciplinas com conteúdo de ciências exatas\n",
        "        \"DIFICULDADE\"    - Estudante necessita de mentoria em duas ou mais disciplinas\n",
        "        \n",
        "Com um modelo capaz de classificar um estudante em uma dessas categorias, podemos automatizar parte da mentoria estudantil através de assistentes virtuais, que serão capazes de recomendar práticas de estudo e conteúdo personalizado com base nas necessidades de cada aluno."
      ]
    },
    {
      "cell_type": "markdown",
      "metadata": {
        "id": "0UERSSsb-l9K"
      },
      "source": [
        "### Explorando os dados fornecidos\n",
        "\n",
        "Podemos continuar a exploração dos dados fornecidos com a função ``info()``:"
      ]
    },
    {
      "cell_type": "code",
      "metadata": {
        "id": "-T5gjOMC-l9K",
        "colab": {
          "base_uri": "https://localhost:8080/"
        },
        "outputId": "9340021f-f7b8-43fb-ea47-d6080e78f3ce"
      },
      "source": [
        "df_training_dataset.info()"
      ],
      "execution_count": 3,
      "outputs": [
        {
          "output_type": "stream",
          "text": [
            "<class 'pandas.core.frame.DataFrame'>\n",
            "RangeIndex: 20000 entries, 0 to 19999\n",
            "Data columns (total 15 columns):\n",
            " #   Column          Non-Null Count  Dtype  \n",
            "---  ------          --------------  -----  \n",
            " 0   MATRICULA       20000 non-null  int64  \n",
            " 1   NOME            20000 non-null  object \n",
            " 2   REPROVACOES_DE  20000 non-null  int64  \n",
            " 3   REPROVACOES_EM  20000 non-null  int64  \n",
            " 4   REPROVACOES_MF  20000 non-null  int64  \n",
            " 5   REPROVACOES_GO  20000 non-null  int64  \n",
            " 6   NOTA_DE         20000 non-null  float64\n",
            " 7   NOTA_EM         20000 non-null  float64\n",
            " 8   NOTA_MF         20000 non-null  float64\n",
            " 9   NOTA_GO         16284 non-null  float64\n",
            " 10  INGLES          16372 non-null  float64\n",
            " 11  H_AULA_PRES     20000 non-null  int64  \n",
            " 12  TAREFAS_ONLINE  20000 non-null  int64  \n",
            " 13  FALTAS          20000 non-null  int64  \n",
            " 14  PERFIL          20000 non-null  object \n",
            "dtypes: float64(5), int64(8), object(2)\n",
            "memory usage: 2.3+ MB\n"
          ],
          "name": "stdout"
        }
      ]
    },
    {
      "cell_type": "markdown",
      "metadata": {
        "id": "nil__NJb-l9L"
      },
      "source": [
        "É notado que existem variáveis do tipo ``float64`` (números \"decimais\"), variáveis do tipo ``int64`` (números inteiros) e do tipo ``object`` (nesse caso são *strings*, ou texto). \n",
        "\n",
        "Como a maioria dos algoritmos de aprendizado estatístico supervisionado só aceita valores numéricos como entrada, é necessário então o pré-processamento das variáveis do tipo \"object\" antes de usar esse dataset como entrada para o treinamento de um modelo. Também é notado que existem valores faltantes em várias colunas. Esses valores faltantes também devem ser tratados antes de serem construídos modelos com esse conjunto de dados base."
      ]
    },
    {
      "cell_type": "markdown",
      "metadata": {
        "id": "88Zj9mRy-l9L"
      },
      "source": [
        "A função ``describe()`` gera várias informações sobre as variáveis numéricas que também podem ser úteis:"
      ]
    },
    {
      "cell_type": "code",
      "metadata": {
        "id": "ne8qIPJf-l9M",
        "colab": {
          "base_uri": "https://localhost:8080/",
          "height": 304
        },
        "outputId": "3b119c1c-4d94-4475-913b-86444f7d4f4b"
      },
      "source": [
        "df_training_dataset.describe()"
      ],
      "execution_count": null,
      "outputs": [
        {
          "output_type": "execute_result",
          "data": {
            "text/html": [
              "<div>\n",
              "<style scoped>\n",
              "    .dataframe tbody tr th:only-of-type {\n",
              "        vertical-align: middle;\n",
              "    }\n",
              "\n",
              "    .dataframe tbody tr th {\n",
              "        vertical-align: top;\n",
              "    }\n",
              "\n",
              "    .dataframe thead th {\n",
              "        text-align: right;\n",
              "    }\n",
              "</style>\n",
              "<table border=\"1\" class=\"dataframe\">\n",
              "  <thead>\n",
              "    <tr style=\"text-align: right;\">\n",
              "      <th></th>\n",
              "      <th>MATRICULA</th>\n",
              "      <th>REPROVACOES_DE</th>\n",
              "      <th>REPROVACOES_EM</th>\n",
              "      <th>REPROVACOES_MF</th>\n",
              "      <th>REPROVACOES_GO</th>\n",
              "      <th>NOTA_DE</th>\n",
              "      <th>NOTA_EM</th>\n",
              "      <th>NOTA_MF</th>\n",
              "      <th>NOTA_GO</th>\n",
              "      <th>INGLES</th>\n",
              "      <th>H_AULA_PRES</th>\n",
              "      <th>TAREFAS_ONLINE</th>\n",
              "      <th>FALTAS</th>\n",
              "    </tr>\n",
              "  </thead>\n",
              "  <tbody>\n",
              "    <tr>\n",
              "      <th>count</th>\n",
              "      <td>20000.000000</td>\n",
              "      <td>20000.000000</td>\n",
              "      <td>20000.000000</td>\n",
              "      <td>20000.000000</td>\n",
              "      <td>20000.000000</td>\n",
              "      <td>20000.000000</td>\n",
              "      <td>20000.000000</td>\n",
              "      <td>20000.000000</td>\n",
              "      <td>16284.000000</td>\n",
              "      <td>16372.000000</td>\n",
              "      <td>20000.000000</td>\n",
              "      <td>20000.000000</td>\n",
              "      <td>20000.000000</td>\n",
              "    </tr>\n",
              "    <tr>\n",
              "      <th>mean</th>\n",
              "      <td>551148.271400</td>\n",
              "      <td>0.242850</td>\n",
              "      <td>0.242850</td>\n",
              "      <td>0.297650</td>\n",
              "      <td>0.293350</td>\n",
              "      <td>5.196560</td>\n",
              "      <td>5.080285</td>\n",
              "      <td>4.817630</td>\n",
              "      <td>4.534101</td>\n",
              "      <td>0.646286</td>\n",
              "      <td>5.102950</td>\n",
              "      <td>3.140300</td>\n",
              "      <td>4.060600</td>\n",
              "    </tr>\n",
              "    <tr>\n",
              "      <th>std</th>\n",
              "      <td>259488.766584</td>\n",
              "      <td>0.615055</td>\n",
              "      <td>0.615055</td>\n",
              "      <td>0.672813</td>\n",
              "      <td>0.661829</td>\n",
              "      <td>2.522545</td>\n",
              "      <td>2.523928</td>\n",
              "      <td>2.734775</td>\n",
              "      <td>2.509209</td>\n",
              "      <td>0.478136</td>\n",
              "      <td>4.118422</td>\n",
              "      <td>1.854909</td>\n",
              "      <td>1.674714</td>\n",
              "    </tr>\n",
              "    <tr>\n",
              "      <th>min</th>\n",
              "      <td>100003.000000</td>\n",
              "      <td>0.000000</td>\n",
              "      <td>0.000000</td>\n",
              "      <td>0.000000</td>\n",
              "      <td>0.000000</td>\n",
              "      <td>0.000000</td>\n",
              "      <td>0.000000</td>\n",
              "      <td>0.000000</td>\n",
              "      <td>0.000000</td>\n",
              "      <td>0.000000</td>\n",
              "      <td>0.000000</td>\n",
              "      <td>0.000000</td>\n",
              "      <td>1.000000</td>\n",
              "    </tr>\n",
              "    <tr>\n",
              "      <th>25%</th>\n",
              "      <td>326554.250000</td>\n",
              "      <td>0.000000</td>\n",
              "      <td>0.000000</td>\n",
              "      <td>0.000000</td>\n",
              "      <td>0.000000</td>\n",
              "      <td>5.200000</td>\n",
              "      <td>4.900000</td>\n",
              "      <td>4.700000</td>\n",
              "      <td>4.500000</td>\n",
              "      <td>0.000000</td>\n",
              "      <td>2.000000</td>\n",
              "      <td>2.000000</td>\n",
              "      <td>3.000000</td>\n",
              "    </tr>\n",
              "    <tr>\n",
              "      <th>50%</th>\n",
              "      <td>550630.000000</td>\n",
              "      <td>0.000000</td>\n",
              "      <td>0.000000</td>\n",
              "      <td>0.000000</td>\n",
              "      <td>0.000000</td>\n",
              "      <td>6.200000</td>\n",
              "      <td>5.900000</td>\n",
              "      <td>5.500000</td>\n",
              "      <td>5.400000</td>\n",
              "      <td>1.000000</td>\n",
              "      <td>4.000000</td>\n",
              "      <td>3.000000</td>\n",
              "      <td>4.000000</td>\n",
              "    </tr>\n",
              "    <tr>\n",
              "      <th>75%</th>\n",
              "      <td>775524.750000</td>\n",
              "      <td>0.000000</td>\n",
              "      <td>0.000000</td>\n",
              "      <td>0.000000</td>\n",
              "      <td>0.000000</td>\n",
              "      <td>6.700000</td>\n",
              "      <td>6.700000</td>\n",
              "      <td>6.500000</td>\n",
              "      <td>6.200000</td>\n",
              "      <td>1.000000</td>\n",
              "      <td>6.000000</td>\n",
              "      <td>5.000000</td>\n",
              "      <td>6.000000</td>\n",
              "    </tr>\n",
              "    <tr>\n",
              "      <th>max</th>\n",
              "      <td>999995.000000</td>\n",
              "      <td>3.000000</td>\n",
              "      <td>3.000000</td>\n",
              "      <td>3.000000</td>\n",
              "      <td>3.000000</td>\n",
              "      <td>9.000000</td>\n",
              "      <td>9.400000</td>\n",
              "      <td>11.500000</td>\n",
              "      <td>10.000000</td>\n",
              "      <td>1.000000</td>\n",
              "      <td>25.000000</td>\n",
              "      <td>7.000000</td>\n",
              "      <td>8.000000</td>\n",
              "    </tr>\n",
              "  </tbody>\n",
              "</table>\n",
              "</div>"
            ],
            "text/plain": [
              "           MATRICULA  REPROVACOES_DE  ...  TAREFAS_ONLINE        FALTAS\n",
              "count   20000.000000    20000.000000  ...    20000.000000  20000.000000\n",
              "mean   551148.271400        0.242850  ...        3.140300      4.060600\n",
              "std    259488.766584        0.615055  ...        1.854909      1.674714\n",
              "min    100003.000000        0.000000  ...        0.000000      1.000000\n",
              "25%    326554.250000        0.000000  ...        2.000000      3.000000\n",
              "50%    550630.000000        0.000000  ...        3.000000      4.000000\n",
              "75%    775524.750000        0.000000  ...        5.000000      6.000000\n",
              "max    999995.000000        3.000000  ...        7.000000      8.000000\n",
              "\n",
              "[8 rows x 13 columns]"
            ]
          },
          "metadata": {
            "tags": []
          },
          "execution_count": 4
        }
      ]
    },
    {
      "cell_type": "markdown",
      "metadata": {
        "id": "6hM6nuiG-l9M"
      },
      "source": [
        "### Visualizações\n",
        "\n",
        "Para visualizar o dataset fornecido, podemos utilizar as bibliotecas ``matplotlib`` e ``seaborn``:"
      ]
    },
    {
      "cell_type": "code",
      "metadata": {
        "id": "SqrNskll-l9M"
      },
      "source": [
        "import matplotlib.pyplot as plt\n",
        "import seaborn as sns\n",
        "%matplotlib inline"
      ],
      "execution_count": null,
      "outputs": []
    },
    {
      "cell_type": "code",
      "metadata": {
        "id": "IA9j6EEK-l9N",
        "outputId": "2fe5f53c-4faa-46c5-f9f7-a40e1906e77f"
      },
      "source": [
        "fig, axes = plt.subplots(nrows=1, ncols=4, figsize=(28, 4))\n",
        "\n",
        "sns.countplot(ax=axes[0], x='REPROVACOES_DE', data=df_training_dataset)\n",
        "sns.countplot(ax=axes[1], x='REPROVACOES_EM', data=df_training_dataset)\n",
        "sns.countplot(ax=axes[2], x='REPROVACOES_MF', data=df_training_dataset)\n",
        "sns.countplot(ax=axes[3], x='REPROVACOES_GO', data=df_training_dataset)"
      ],
      "execution_count": null,
      "outputs": [
        {
          "output_type": "execute_result",
          "data": {
            "text/plain": [
              "<matplotlib.axes._subplots.AxesSubplot at 0x23be6997130>"
            ]
          },
          "metadata": {
            "tags": []
          },
          "execution_count": 8
        },
        {
          "output_type": "display_data",
          "data": {
            "image/png": "[encoded data removed]",
            "text/plain": [
              "<Figure size 2016x288 with 4 Axes>"
            ]
          },
          "metadata": {
            "tags": [],
            "needs_background": "light"
          }
        }
      ]
    },
    {
      "cell_type": "code",
      "metadata": {
        "id": "DomgWuZ1-l9N",
        "outputId": "dabc6a4a-9bac-49fb-c62b-e86db8e3be9f"
      },
      "source": [
        "fig, axes = plt.subplots(nrows=1, ncols=4, figsize=(28, 4))\n",
        "\n",
        "sns.distplot(df_training_dataset['NOTA_DE'], ax=axes[0])\n",
        "sns.distplot(df_training_dataset['NOTA_EM'], ax=axes[1])\n",
        "sns.distplot(df_training_dataset['NOTA_MF'], ax=axes[2])\n",
        "sns.distplot(df_training_dataset['NOTA_GO'].dropna(), ax=axes[3])"
      ],
      "execution_count": null,
      "outputs": [
        {
          "output_type": "execute_result",
          "data": {
            "text/plain": [
              "<matplotlib.axes._subplots.AxesSubplot at 0x23be6abf070>"
            ]
          },
          "metadata": {
            "tags": []
          },
          "execution_count": 9
        },
        {
          "output_type": "display_data",
          "data": {
            "image/png": "[encoded data removed]",
            "text/plain": [
              "<Figure size 2016x288 with 4 Axes>"
            ]
          },
          "metadata": {
            "tags": [],
            "needs_background": "light"
          }
        }
      ]
    },
    {
      "cell_type": "code",
      "metadata": {
        "scrolled": true,
        "id": "0ks6PePF-l9O",
        "outputId": "ab052e20-adfb-417e-c799-a67eee6c5a3b"
      },
      "source": [
        "fig, axes = plt.subplots(nrows=1, ncols=4, figsize=(28, 4))\n",
        "\n",
        "sns.countplot(ax=axes[0], x='INGLES', data=df_training_dataset)\n",
        "sns.countplot(ax=axes[1], x='FALTAS', data=df_training_dataset)\n",
        "sns.countplot(ax=axes[2], x='H_AULA_PRES', data=df_training_dataset)\n",
        "sns.countplot(ax=axes[3], x='TAREFAS_ONLINE', data=df_training_dataset)"
      ],
      "execution_count": null,
      "outputs": [
        {
          "output_type": "execute_result",
          "data": {
            "text/plain": [
              "<matplotlib.axes._subplots.AxesSubplot at 0x23be7fb0100>"
            ]
          },
          "metadata": {
            "tags": []
          },
          "execution_count": 10
        },
        {
          "output_type": "display_data",
          "data": {
            "image/png": "[encoded data removed]",
            "text/plain": [
              "<Figure size 2016x288 with 4 Axes>"
            ]
          },
          "metadata": {
            "tags": [],
            "needs_background": "light"
          }
        }
      ]
    },
    {
      "cell_type": "code",
      "metadata": {
        "id": "fiakl3HM-l9P",
        "outputId": "902d73ff-1157-408d-d138-40d2cfa16519"
      },
      "source": [
        "fig = plt.plot()\n",
        "sns.countplot(x='PERFIL', data=df_training_dataset)"
      ],
      "execution_count": null,
      "outputs": [
        {
          "output_type": "execute_result",
          "data": {
            "text/plain": [
              "<matplotlib.axes._subplots.AxesSubplot at 0x23be7fe8250>"
            ]
          },
          "metadata": {
            "tags": []
          },
          "execution_count": 11
        },
        {
          "output_type": "display_data",
          "data": {
            "image/png": "[encoded data removed]",
            "text/plain": [
              "<Figure size 432x288 with 1 Axes>"
            ]
          },
          "metadata": {
            "tags": [],
            "needs_background": "light"
          }
        }
      ]
    },
    {
      "cell_type": "markdown",
      "metadata": {
        "id": "wwl24L-t-l9S"
      },
      "source": [
        "### Realizando o pré-processamento dos dados"
      ]
    },
    {
      "cell_type": "markdown",
      "metadata": {
        "id": "Tpfa2kiSRAwF"
      },
      "source": [
        "Na próxima célula é apresentado o código completo de uma transformação ``DropColumns`` para a remoção de colunas de um DataFrame pandas.\r\n",
        "\r\n",
        "Para a criação de uma transformação de dados personalizada no scikit-learn, é necessária basicamente a criação de uma classe com os métodos ``transform`` e ``fit``. No método transform será executada a lógica da nossa transformação."
      ]
    },
    {
      "cell_type": "code",
      "metadata": {
        "id": "-8JB7b2d-l9Q"
      },
      "source": [
        "from sklearn.base import BaseEstimator, TransformerMixin\n",
        "\n",
        "\n",
        "# All sklearn Transforms must have the `transform` and `fit` methods\n",
        "class DropColumns(BaseEstimator, TransformerMixin):\n",
        "    def __init__(self, columns):\n",
        "        self.columns = columns\n",
        "\n",
        "    def fit(self, X, y=None):\n",
        "        return self\n",
        "    \n",
        "    def transform(self, X):\n",
        "        # Primeiro realizamos a cópia do dataframe 'X' de entrada\n",
        "        data = X.copy()\n",
        "        # Retornamos um novo dataframe sem as colunas indesejadas\n",
        "        return data.drop(labels=self.columns, axis='columns')"
      ],
      "execution_count": 5,
      "outputs": []
    },
    {
      "cell_type": "markdown",
      "metadata": {
        "id": "ySncDNicTBff"
      },
      "source": [
        "A próxima célula possui um código para cálculo de média de um conjunto de notas escolhido. Será utilizado para calcular as médias geral, de humanas e de exatas. "
      ]
    },
    {
      "cell_type": "code",
      "metadata": {
        "id": "z6-5gsUr-l9Q"
      },
      "source": [
        "class CombMedias(BaseEstimator, TransformerMixin):\n",
        "    def __init__(self, columns, name):\n",
        "        self.columns = columns\n",
        "        self.name = name\n",
        "\n",
        "    def fit(self, X, y=None):\n",
        "        return self\n",
        "      \n",
        "    def comb(self, data):\n",
        "        return pd.Series([\n",
        "        np.sum([data[nota] for nota in self.columns])/len(self.columns)], index =[f'COMB_{self.name}']\n",
        "        )\n",
        "          \n",
        "    def transform(self, X):\n",
        "        # Primeiro realizamos a cópia do dataframe 'X' de entrada\n",
        "        data = X.copy()\n",
        "        data = data.join(data.apply(self.comb, axis=1))\n",
        "        return data"
      ],
      "execution_count": 6,
      "outputs": []
    },
    {
      "cell_type": "markdown",
      "metadata": {
        "id": "Z0Ula1QsTTK_"
      },
      "source": [
        "A próxima função foi construída para tratar os dados faltantes, referentes às notas de Gestão Operacional (``NOTA_GO``)."
      ]
    },
    {
      "cell_type": "code",
      "metadata": {
        "id": "C3zDStta-l9R"
      },
      "source": [
        "class FillNan(BaseEstimator, TransformerMixin):\n",
        "    def __init__(self, column):\n",
        "        self.column = column\n",
        "        self.dataframe = None\n",
        "\n",
        "    def fit(self, X, y=None):\n",
        "        self.dataframe = X.copy().join(y) if y is not None else None\n",
        "        return self\n",
        "   \n",
        "    def transform(self, X):\n",
        "        # Primeiro realizamos a cópia do dataframe 'X' de entrada\n",
        "        data = X.copy()\n",
        "        if self.dataframe is not None:\n",
        "          data = self.dataframe\n",
        "          perfis = data['PERFIL'][:]\n",
        "          medias = data.groupby('PERFIL')[self.column].median()\n",
        "          data = data.set_index(['PERFIL'])\n",
        "          data[self.column] = data[self.column].fillna(medias)\n",
        "          data.reset_index(inplace=True)\n",
        "          data.drop(['PERFIL'], axis=1, inplace=True)\n",
        "          self.dataframe = None\n",
        "        return data"
      ],
      "execution_count": 7,
      "outputs": []
    },
    {
      "cell_type": "markdown",
      "metadata": {
        "id": "ou7nO4by-l9S"
      },
      "source": [
        "#### Transformação 1: excluindo colunas do dataset"
      ]
    },
    {
      "cell_type": "markdown",
      "metadata": {
        "id": "m7eyWjES-l9U"
      },
      "source": [
        "Para aplicar essa transformação em um DataFrame pandas, basta instanciar um objeto *DropColumns* e chamar o método transform()."
      ]
    },
    {
      "cell_type": "code",
      "metadata": {
        "id": "X5-IC39y-l9U",
        "colab": {
          "base_uri": "https://localhost:8080/"
        },
        "outputId": "db5dfd85-21d6-4d08-8b55-bbfeeb74b227"
      },
      "source": [
        "# Instanciando uma transformação DropColumns\n",
        "rm_columns = DropColumns(\n",
        "    columns=['MATRICULA', 'NOME', 'INGLES', 'REPROVACOES_DE',\n",
        "                          'REPROVACOES_MF', 'REPROVACOES_EM', 'REPROVACOES_GO',\n",
        "                          'FALTAS', 'H_AULA_PRES', 'TAREFAS_ONLINE']  # Essa transformação recebe como parâmetro uma lista com os nomes das colunas indesejadas\n",
        ")\n",
        "\n",
        "print(rm_columns)"
      ],
      "execution_count": 8,
      "outputs": [
        {
          "output_type": "stream",
          "text": [
            "DropColumns(columns=['MATRICULA', 'NOME', 'INGLES', 'REPROVACOES_DE',\n",
            "                     'REPROVACOES_MF', 'REPROVACOES_EM', 'REPROVACOES_GO',\n",
            "                     'FALTAS', 'H_AULA_PRES', 'TAREFAS_ONLINE'])\n"
          ],
          "name": "stdout"
        }
      ]
    },
    {
      "cell_type": "code",
      "metadata": {
        "id": "B2mXD4N4-l9V",
        "colab": {
          "base_uri": "https://localhost:8080/"
        },
        "outputId": "8a37cb1d-979f-4455-ae85-5a528b000e14"
      },
      "source": [
        "# Visualizando as colunas do dataset original\n",
        "print(\"Colunas do dataset original: \\n\")\n",
        "print(df_training_dataset.columns)"
      ],
      "execution_count": 9,
      "outputs": [
        {
          "output_type": "stream",
          "text": [
            "Colunas do dataset original: \n",
            "\n",
            "Index(['MATRICULA', 'NOME', 'REPROVACOES_DE', 'REPROVACOES_EM',\n",
            "       'REPROVACOES_MF', 'REPROVACOES_GO', 'NOTA_DE', 'NOTA_EM', 'NOTA_MF',\n",
            "       'NOTA_GO', 'INGLES', 'H_AULA_PRES', 'TAREFAS_ONLINE', 'FALTAS',\n",
            "       'PERFIL'],\n",
            "      dtype='object')\n"
          ],
          "name": "stdout"
        }
      ]
    },
    {
      "cell_type": "code",
      "metadata": {
        "id": "Bw9U43SE-l9V"
      },
      "source": [
        "# Aplicando a transformação ``DropColumns`` ao conjunto de dados base\n",
        "rm_columns.fit(X=df_training_dataset)\n",
        "\n",
        "# Reconstruindo um DataFrame Pandas com o resultado da transformação\n",
        "df_training_dataset_2 = pd.DataFrame.from_records(\n",
        "    data=rm_columns.transform(\n",
        "        X=df_training_dataset\n",
        "    ),\n",
        ")"
      ],
      "execution_count": 10,
      "outputs": []
    },
    {
      "cell_type": "code",
      "metadata": {
        "id": "Kjcu0exL-l9V",
        "colab": {
          "base_uri": "https://localhost:8080/"
        },
        "outputId": "a0262499-2820-402e-b436-b8c9f7451f8c"
      },
      "source": [
        "# Visualizando as colunas do dataset transformado\n",
        "print(\"Colunas do dataset após a transformação ``DropColumns``: \\n\")\n",
        "print(df_training_dataset_2.columns)"
      ],
      "execution_count": 11,
      "outputs": [
        {
          "output_type": "stream",
          "text": [
            "Colunas do dataset após a transformação ``DropColumns``: \n",
            "\n",
            "Index(['NOTA_DE', 'NOTA_EM', 'NOTA_MF', 'NOTA_GO', 'PERFIL'], dtype='object')\n"
          ],
          "name": "stdout"
        }
      ]
    },
    {
      "cell_type": "code",
      "metadata": {
        "id": "Y2enmAqz-l9W"
      },
      "source": [
        "# fn = FillNan('NOTA_GO')\n",
        "cm = CombMedias(['NOTA_DE', 'NOTA_MF', 'NOTA_EM', 'NOTA_GO'], 'NOTAS')\n",
        "ch = CombMedias(['NOTA_DE', 'NOTA_EM'], 'HUMANAS')\n",
        "ce = CombMedias(['NOTA_MF', 'NOTA_GO'], 'EXATAS')"
      ],
      "execution_count": 12,
      "outputs": []
    },
    {
      "cell_type": "markdown",
      "metadata": {
        "id": "G5z7JzP9-l9W"
      },
      "source": [
        "#### Transformação 2: tratando dados faltantes e criando novos features\n",
        "\n",
        "Para tratar os dados faltantes em nosso conjunto de dados, iremos agora utilizar uma transformaçã.\n"
      ]
    },
    {
      "cell_type": "code",
      "metadata": {
        "id": "ezOWuTTcdf77"
      },
      "source": [
        "from sklearn.compose import ColumnTransformer\r\n",
        "t = [('num', SimpleImputer(missing_values=np.NaN, strategy='mean'), [0,1,2,3])]\r\n",
        "transformer = ColumnTransformer(transformers=t, remainder='passthrough')"
      ],
      "execution_count": 83,
      "outputs": []
    },
    {
      "cell_type": "code",
      "metadata": {
        "colab": {
          "base_uri": "https://localhost:8080/"
        },
        "id": "KXCM8n8-dn5R",
        "outputId": "f45adbd2-683c-454d-eef5-fc24d45f9571"
      },
      "source": [
        "# Visualizando os dados faltantes do dataset após a primeira transformação (df_training_dataset_2)\r\n",
        "print(\"Valores nulos antes da transformação SimpleImputer: \\n\\n{}\\n\".format(df_training_dataset_2.isnull().sum(axis = 0)))"
      ],
      "execution_count": 84,
      "outputs": [
        {
          "output_type": "stream",
          "text": [
            "Valores nulos antes da transformação SimpleImputer: \n",
            "\n",
            "NOTA_DE       0\n",
            "NOTA_EM       0\n",
            "NOTA_MF       0\n",
            "NOTA_GO    3716\n",
            "PERFIL        0\n",
            "dtype: int64\n",
            "\n"
          ],
          "name": "stdout"
        }
      ]
    },
    {
      "cell_type": "code",
      "metadata": {
        "id": "0ElE2orSdrWU"
      },
      "source": [
        "# Aplicamos o SimpleImputer ``si`` ao conjunto de dados df_data_2 (resultado da primeira transformação)\r\n",
        "# si.fit(X=df_data_2.values)\r\n",
        "\r\n",
        "# # Reconstrução de um novo DataFrame Pandas com o conjunto imputado (df_data_3)\r\n",
        "# df_data_3 = pd.DataFrame.from_records(\r\n",
        "#     data=si.transform(\r\n",
        "#         X=df_data_2\r\n",
        "#     ),  # o resultado SimpleImputer.transform(<<pandas dataframe>>) é lista de listas\r\n",
        "#     columns=df_data_2.columns # as colunas originais devem ser conservadas nessa transformação\r\n",
        "# )\r\n",
        "df_data_3 = pd.DataFrame.from_records(data=transformer.fit_transform(X=df_training_dataset_2),columns=df_training_dataset_2.columns,index=df_training_dataset_2.index)"
      ],
      "execution_count": 85,
      "outputs": []
    },
    {
      "cell_type": "code",
      "metadata": {
        "colab": {
          "base_uri": "https://localhost:8080/"
        },
        "id": "vVsEeqxUdsJT",
        "outputId": "9e47687a-c15e-437f-fc11-f3184702e4d0"
      },
      "source": [
        "# Visualizando os dados faltantes do dataset após a segunda transformação (SimpleImputer) (df_data_3)\r\n",
        "print(\"Valores nulos no dataset após a transformação SimpleImputer: \\n\\n{}\\n\".format(df_data_3.isnull().sum(axis = 0)))"
      ],
      "execution_count": 86,
      "outputs": [
        {
          "output_type": "stream",
          "text": [
            "Valores nulos no dataset após a transformação SimpleImputer: \n",
            "\n",
            "NOTA_DE    0\n",
            "NOTA_EM    0\n",
            "NOTA_MF    0\n",
            "NOTA_GO    0\n",
            "PERFIL     0\n",
            "dtype: int64\n",
            "\n"
          ],
          "name": "stdout"
        }
      ]
    },
    {
      "cell_type": "code",
      "metadata": {
        "id": "cdUSO-et-l9X"
      },
      "source": [
        "df_training_dataset_3 = pd.DataFrame.from_records(cm.fit_transform(df_training_dataset_2)) # data_3))\n",
        "df_training_dataset_4 = pd.DataFrame.from_records(ch.fit_transform(df_training_dataset_3))\n",
        "df_training_dataset_5 = pd.DataFrame.from_records(ce.fit_transform(df_training_dataset_4))"
      ],
      "execution_count": 109,
      "outputs": []
    },
    {
      "cell_type": "markdown",
      "metadata": {
        "id": "y4NchAIs-l9Y"
      },
      "source": [
        "Nota-se que não temos mais nenhum valor faltante no nosso conjunto de dados :)\n",
        "\n",
        "Vale salientar que nem sempre a alteração dos valores faltantes por 0 é a melhor estratégia. O participante é incentivado a estudar e implementar estratégias diferentes de tratamento dos valores faltantes para aprimorar seu modelo e melhorar sua pontuação final."
      ]
    },
    {
      "cell_type": "code",
      "metadata": {
        "id": "zD0ouw8TW19d"
      },
      "source": [
        "df_training_dataset_6 = df_training_dataset_5.dropna()"
      ],
      "execution_count": 110,
      "outputs": []
    },
    {
      "cell_type": "markdown",
      "metadata": {
        "id": "3cf0xFBY-l9Y"
      },
      "source": [
        "### Treinando um modelo de classificação"
      ]
    },
    {
      "cell_type": "markdown",
      "metadata": {
        "id": "B2RN2p-M-l9Z"
      },
      "source": [
        "Finalizado o pré-processamento, já temos o conjunto de dados no formato necessário para o treinamento do nosso modelo:"
      ]
    },
    {
      "cell_type": "code",
      "metadata": {
        "id": "__TrG80N-l9Z",
        "colab": {
          "base_uri": "https://localhost:8080/",
          "height": 195
        },
        "outputId": "87abcb7c-6f81-4bbe-f9af-fe1d3a1633ee"
      },
      "source": [
        "df_training_dataset_6.head()"
      ],
      "execution_count": 111,
      "outputs": [
        {
          "output_type": "execute_result",
          "data": {
            "text/html": [
              "<div>\n",
              "<style scoped>\n",
              "    .dataframe tbody tr th:only-of-type {\n",
              "        vertical-align: middle;\n",
              "    }\n",
              "\n",
              "    .dataframe tbody tr th {\n",
              "        vertical-align: top;\n",
              "    }\n",
              "\n",
              "    .dataframe thead th {\n",
              "        text-align: right;\n",
              "    }\n",
              "</style>\n",
              "<table border=\"1\" class=\"dataframe\">\n",
              "  <thead>\n",
              "    <tr style=\"text-align: right;\">\n",
              "      <th></th>\n",
              "      <th>NOTA_DE</th>\n",
              "      <th>NOTA_EM</th>\n",
              "      <th>NOTA_MF</th>\n",
              "      <th>NOTA_GO</th>\n",
              "      <th>PERFIL</th>\n",
              "      <th>COMB_NOTAS</th>\n",
              "      <th>COMB_HUMANAS</th>\n",
              "      <th>COMB_EXATAS</th>\n",
              "    </tr>\n",
              "  </thead>\n",
              "  <tbody>\n",
              "    <tr>\n",
              "      <th>0</th>\n",
              "      <td>6.2</td>\n",
              "      <td>5.8</td>\n",
              "      <td>4.6</td>\n",
              "      <td>5.9</td>\n",
              "      <td>EXATAS</td>\n",
              "      <td>5.625</td>\n",
              "      <td>6.0</td>\n",
              "      <td>5.25</td>\n",
              "    </tr>\n",
              "    <tr>\n",
              "      <th>1</th>\n",
              "      <td>6.0</td>\n",
              "      <td>6.2</td>\n",
              "      <td>5.2</td>\n",
              "      <td>4.5</td>\n",
              "      <td>EXATAS</td>\n",
              "      <td>5.475</td>\n",
              "      <td>6.1</td>\n",
              "      <td>4.85</td>\n",
              "    </tr>\n",
              "    <tr>\n",
              "      <th>2</th>\n",
              "      <td>7.3</td>\n",
              "      <td>6.7</td>\n",
              "      <td>7.1</td>\n",
              "      <td>7.2</td>\n",
              "      <td>HUMANAS</td>\n",
              "      <td>7.075</td>\n",
              "      <td>7.0</td>\n",
              "      <td>7.15</td>\n",
              "    </tr>\n",
              "    <tr>\n",
              "      <th>3</th>\n",
              "      <td>0.0</td>\n",
              "      <td>0.0</td>\n",
              "      <td>0.0</td>\n",
              "      <td>0.0</td>\n",
              "      <td>DIFICULDADE</td>\n",
              "      <td>0.000</td>\n",
              "      <td>0.0</td>\n",
              "      <td>0.00</td>\n",
              "    </tr>\n",
              "    <tr>\n",
              "      <th>4</th>\n",
              "      <td>0.0</td>\n",
              "      <td>0.0</td>\n",
              "      <td>0.0</td>\n",
              "      <td>0.0</td>\n",
              "      <td>DIFICULDADE</td>\n",
              "      <td>0.000</td>\n",
              "      <td>0.0</td>\n",
              "      <td>0.00</td>\n",
              "    </tr>\n",
              "  </tbody>\n",
              "</table>\n",
              "</div>"
            ],
            "text/plain": [
              "   NOTA_DE  NOTA_EM  NOTA_MF  ...  COMB_NOTAS COMB_HUMANAS  COMB_EXATAS\n",
              "0      6.2      5.8      4.6  ...       5.625          6.0         5.25\n",
              "1      6.0      6.2      5.2  ...       5.475          6.1         4.85\n",
              "2      7.3      6.7      7.1  ...       7.075          7.0         7.15\n",
              "3      0.0      0.0      0.0  ...       0.000          0.0         0.00\n",
              "4      0.0      0.0      0.0  ...       0.000          0.0         0.00\n",
              "\n",
              "[5 rows x 8 columns]"
            ]
          },
          "metadata": {
            "tags": []
          },
          "execution_count": 111
        }
      ]
    },
    {
      "cell_type": "code",
      "metadata": {
        "id": "oEAAyVfQ-l9Z",
        "colab": {
          "base_uri": "https://localhost:8080/"
        },
        "outputId": "236218a5-200c-4b1a-b31b-e9acf2ea6c21"
      },
      "source": [
        "df_training_dataset_6.info()"
      ],
      "execution_count": 112,
      "outputs": [
        {
          "output_type": "stream",
          "text": [
            "<class 'pandas.core.frame.DataFrame'>\n",
            "Int64Index: 16284 entries, 0 to 19999\n",
            "Data columns (total 8 columns):\n",
            " #   Column        Non-Null Count  Dtype  \n",
            "---  ------        --------------  -----  \n",
            " 0   NOTA_DE       16284 non-null  float64\n",
            " 1   NOTA_EM       16284 non-null  float64\n",
            " 2   NOTA_MF       16284 non-null  float64\n",
            " 3   NOTA_GO       16284 non-null  float64\n",
            " 4   PERFIL        16284 non-null  object \n",
            " 5   COMB_NOTAS    16284 non-null  float64\n",
            " 6   COMB_HUMANAS  16284 non-null  float64\n",
            " 7   COMB_EXATAS   16284 non-null  float64\n",
            "dtypes: float64(7), object(1)\n",
            "memory usage: 1.1+ MB\n"
          ],
          "name": "stdout"
        }
      ]
    },
    {
      "cell_type": "markdown",
      "metadata": {
        "id": "lyDS0bub-l9a"
      },
      "source": [
        "No exemplo fornecido, iremos utilizar todas as colunas, exceto a coluna **LABELS** como *features* (variáveis de entrada).\n",
        "\n",
        "A variável **LABELS** será a variável-alvo do modelo, conforme descrito no enunciado do desafio."
      ]
    },
    {
      "cell_type": "markdown",
      "metadata": {
        "id": "cfTRBRFG-l9a"
      },
      "source": [
        "#### Definindo as features do modelo"
      ]
    },
    {
      "cell_type": "code",
      "metadata": {
        "id": "f3XDqSmj-l9a"
      },
      "source": [
        "# Definição das colunas que serão features (nota-se que a coluna NOME não está presente)\n",
        "features = [\n",
        "    'NOTA_DE', 'NOTA_EM', 'NOTA_MF', 'NOTA_GO', 'COMB_NOTAS','COMB_HUMANAS','COMB_EXATAS'\n",
        "]\n",
        "\n",
        "# Definição da variável-alvo\n",
        "target = [\"PERFIL\"]\n",
        "\n",
        "# Preparação dos argumentos para os métodos da biblioteca ``scikit-learn`6\n",
        "X = df_training_dataset_6[features]\n",
        "y = df_training_dataset_6[target]"
      ],
      "execution_count": 113,
      "outputs": []
    },
    {
      "cell_type": "markdown",
      "metadata": {
        "id": "GnIhrg-t-l9b"
      },
      "source": [
        "O conjunto de entrada (X):"
      ]
    },
    {
      "cell_type": "code",
      "metadata": {
        "id": "DBSX3PYo-l9b",
        "colab": {
          "base_uri": "https://localhost:8080/",
          "height": 195
        },
        "outputId": "1a605069-c954-4602-b068-04ac5dde92ef"
      },
      "source": [
        "X.head()"
      ],
      "execution_count": 93,
      "outputs": [
        {
          "output_type": "execute_result",
          "data": {
            "text/html": [
              "<div>\n",
              "<style scoped>\n",
              "    .dataframe tbody tr th:only-of-type {\n",
              "        vertical-align: middle;\n",
              "    }\n",
              "\n",
              "    .dataframe tbody tr th {\n",
              "        vertical-align: top;\n",
              "    }\n",
              "\n",
              "    .dataframe thead th {\n",
              "        text-align: right;\n",
              "    }\n",
              "</style>\n",
              "<table border=\"1\" class=\"dataframe\">\n",
              "  <thead>\n",
              "    <tr style=\"text-align: right;\">\n",
              "      <th></th>\n",
              "      <th>NOTA_DE</th>\n",
              "      <th>NOTA_EM</th>\n",
              "      <th>NOTA_MF</th>\n",
              "      <th>NOTA_GO</th>\n",
              "      <th>COMB_NOTAS</th>\n",
              "      <th>COMB_HUMANAS</th>\n",
              "      <th>COMB_EXATAS</th>\n",
              "    </tr>\n",
              "  </thead>\n",
              "  <tbody>\n",
              "    <tr>\n",
              "      <th>0</th>\n",
              "      <td>6.2</td>\n",
              "      <td>5.8</td>\n",
              "      <td>4.6</td>\n",
              "      <td>5.9</td>\n",
              "      <td>5.625</td>\n",
              "      <td>6.0</td>\n",
              "      <td>5.25</td>\n",
              "    </tr>\n",
              "    <tr>\n",
              "      <th>1</th>\n",
              "      <td>6.0</td>\n",
              "      <td>6.2</td>\n",
              "      <td>5.2</td>\n",
              "      <td>4.5</td>\n",
              "      <td>5.475</td>\n",
              "      <td>6.1</td>\n",
              "      <td>4.85</td>\n",
              "    </tr>\n",
              "    <tr>\n",
              "      <th>2</th>\n",
              "      <td>7.3</td>\n",
              "      <td>6.7</td>\n",
              "      <td>7.1</td>\n",
              "      <td>7.2</td>\n",
              "      <td>7.075</td>\n",
              "      <td>7.0</td>\n",
              "      <td>7.15</td>\n",
              "    </tr>\n",
              "    <tr>\n",
              "      <th>3</th>\n",
              "      <td>0.0</td>\n",
              "      <td>0.0</td>\n",
              "      <td>0.0</td>\n",
              "      <td>0.0</td>\n",
              "      <td>0.000</td>\n",
              "      <td>0.0</td>\n",
              "      <td>0.00</td>\n",
              "    </tr>\n",
              "    <tr>\n",
              "      <th>4</th>\n",
              "      <td>0.0</td>\n",
              "      <td>0.0</td>\n",
              "      <td>0.0</td>\n",
              "      <td>0.0</td>\n",
              "      <td>0.000</td>\n",
              "      <td>0.0</td>\n",
              "      <td>0.00</td>\n",
              "    </tr>\n",
              "  </tbody>\n",
              "</table>\n",
              "</div>"
            ],
            "text/plain": [
              "   NOTA_DE  NOTA_EM  NOTA_MF  NOTA_GO  COMB_NOTAS  COMB_HUMANAS  COMB_EXATAS\n",
              "0      6.2      5.8      4.6      5.9       5.625           6.0         5.25\n",
              "1      6.0      6.2      5.2      4.5       5.475           6.1         4.85\n",
              "2      7.3      6.7      7.1      7.2       7.075           7.0         7.15\n",
              "3      0.0      0.0      0.0      0.0       0.000           0.0         0.00\n",
              "4      0.0      0.0      0.0      0.0       0.000           0.0         0.00"
            ]
          },
          "metadata": {
            "tags": []
          },
          "execution_count": 93
        }
      ]
    },
    {
      "cell_type": "markdown",
      "metadata": {
        "id": "KNM1JnjT-l9b"
      },
      "source": [
        "As variáveis-alvo correspondentes (y):"
      ]
    },
    {
      "cell_type": "code",
      "metadata": {
        "id": "__kU0qcp-l9b",
        "colab": {
          "base_uri": "https://localhost:8080/",
          "height": 195
        },
        "outputId": "35766dc9-3d4a-4bff-df02-e7d0a160814d"
      },
      "source": [
        "y.head()"
      ],
      "execution_count": 94,
      "outputs": [
        {
          "output_type": "execute_result",
          "data": {
            "text/html": [
              "<div>\n",
              "<style scoped>\n",
              "    .dataframe tbody tr th:only-of-type {\n",
              "        vertical-align: middle;\n",
              "    }\n",
              "\n",
              "    .dataframe tbody tr th {\n",
              "        vertical-align: top;\n",
              "    }\n",
              "\n",
              "    .dataframe thead th {\n",
              "        text-align: right;\n",
              "    }\n",
              "</style>\n",
              "<table border=\"1\" class=\"dataframe\">\n",
              "  <thead>\n",
              "    <tr style=\"text-align: right;\">\n",
              "      <th></th>\n",
              "      <th>PERFIL</th>\n",
              "    </tr>\n",
              "  </thead>\n",
              "  <tbody>\n",
              "    <tr>\n",
              "      <th>0</th>\n",
              "      <td>EXATAS</td>\n",
              "    </tr>\n",
              "    <tr>\n",
              "      <th>1</th>\n",
              "      <td>EXATAS</td>\n",
              "    </tr>\n",
              "    <tr>\n",
              "      <th>2</th>\n",
              "      <td>HUMANAS</td>\n",
              "    </tr>\n",
              "    <tr>\n",
              "      <th>3</th>\n",
              "      <td>DIFICULDADE</td>\n",
              "    </tr>\n",
              "    <tr>\n",
              "      <th>4</th>\n",
              "      <td>DIFICULDADE</td>\n",
              "    </tr>\n",
              "  </tbody>\n",
              "</table>\n",
              "</div>"
            ],
            "text/plain": [
              "        PERFIL\n",
              "0       EXATAS\n",
              "1       EXATAS\n",
              "2      HUMANAS\n",
              "3  DIFICULDADE\n",
              "4  DIFICULDADE"
            ]
          },
          "metadata": {
            "tags": []
          },
          "execution_count": 94
        }
      ]
    },
    {
      "cell_type": "markdown",
      "metadata": {
        "id": "Y0FhKChc-l9c"
      },
      "source": [
        "#### Separando o dataset em um conjunto de treino e um conjunto de teste"
      ]
    },
    {
      "cell_type": "markdown",
      "metadata": {
        "id": "XD3x973c-l9c"
      },
      "source": [
        "Iremos separar o dataset fornecido em dois grupos: um para treinar nosso modelo, e outro para testarmos o resultado através de um teste cego. A separação do dataset pode ser feita facilmente com o método *train_test_split()* do scikit-learn:"
      ]
    },
    {
      "cell_type": "code",
      "metadata": {
        "id": "gOS0V60_ajIx"
      },
      "source": [
        "X = X.to_numpy()\r\n",
        "y = y.to_numpy()"
      ],
      "execution_count": 114,
      "outputs": []
    },
    {
      "cell_type": "code",
      "metadata": {
        "id": "QlhIzCtG-l9d"
      },
      "source": [
        "# Separação dos dados em um conjunto de treino e um conjunto de teste\n",
        "X_train, X_test, y_train, y_test = train_test_split(X, y, test_size=0.3, random_state=82) #.values.ravel()"
      ],
      "execution_count": 121,
      "outputs": []
    },
    {
      "cell_type": "code",
      "metadata": {
        "id": "u5atG50WXYEo"
      },
      "source": [
        "# Smote\r\n",
        "smote = SMOTE(n_jobs=2)\r\n",
        "\r\n",
        "# Tomek Links\r\n",
        "tomek = TomekLinks(n_jobs=2)\r\n",
        "\r\n",
        "# Smote + Tomek\r\n",
        "sm = SMOTETomek()"
      ],
      "execution_count": 97,
      "outputs": []
    },
    {
      "cell_type": "code",
      "metadata": {
        "colab": {
          "base_uri": "https://localhost:8080/"
        },
        "id": "WAfeoTMzXq8K",
        "outputId": "5ecf20de-5bbe-4202-fca7-c5f061ffb209"
      },
      "source": [
        "X_train, y_train = smote.fit_resample(X_train, y_train)\r\n",
        "# X_train, y_train = tomek.fit_resample(X_train, y_train)\r\n",
        "# X_train, y_train = sm.fit_resample(X_train, y_train)"
      ],
      "execution_count": 116,
      "outputs": [
        {
          "output_type": "stream",
          "text": [
            "/usr/local/lib/python3.6/dist-packages/sklearn/utils/validation.py:760: DataConversionWarning: A column-vector y was passed when a 1d array was expected. Please change the shape of y to (n_samples, ), for example using ravel().\n",
            "  y = column_or_1d(y, warn=True)\n",
            "/usr/local/lib/python3.6/dist-packages/sklearn/utils/deprecation.py:87: FutureWarning: Function safe_indexing is deprecated; safe_indexing is deprecated in version 0.22 and will be removed in version 0.24.\n",
            "  warnings.warn(msg, category=FutureWarning)\n",
            "/usr/local/lib/python3.6/dist-packages/sklearn/utils/deprecation.py:87: FutureWarning: Function safe_indexing is deprecated; safe_indexing is deprecated in version 0.22 and will be removed in version 0.24.\n",
            "  warnings.warn(msg, category=FutureWarning)\n",
            "/usr/local/lib/python3.6/dist-packages/sklearn/utils/deprecation.py:87: FutureWarning: Function safe_indexing is deprecated; safe_indexing is deprecated in version 0.22 and will be removed in version 0.24.\n",
            "  warnings.warn(msg, category=FutureWarning)\n",
            "/usr/local/lib/python3.6/dist-packages/sklearn/utils/deprecation.py:87: FutureWarning: Function safe_indexing is deprecated; safe_indexing is deprecated in version 0.22 and will be removed in version 0.24.\n",
            "  warnings.warn(msg, category=FutureWarning)\n"
          ],
          "name": "stderr"
        }
      ]
    },
    {
      "cell_type": "markdown",
      "metadata": {
        "id": "iNp0oMnR-l9d"
      },
      "source": [
        "<hr>"
      ]
    },
    {
      "cell_type": "markdown",
      "metadata": {
        "id": "IpkxXQr7-l9d"
      },
      "source": [
        "#### Criando um modelo baseado em árvores de decisão"
      ]
    },
    {
      "cell_type": "markdown",
      "metadata": {
        "id": "XInhQ9wY-l9d"
      },
      "source": [
        "No exemplo fornecido iremos criar um classificador baseado em **XGBoost**.\n",
        "\n",
        "Material teórico sobre árvores de decisão na documentação oficial do scikit-learn: https://scikit-learn.org/st\n",
        "\n",
        "O primeiro passo é basicamente instanciar um objeto *XGBClassifier* da biblioteca scikit-learn."
      ]
    },
    {
      "cell_type": "code",
      "metadata": {
        "id": "2vhdyO50-l9e"
      },
      "source": [
        "\n",
        "model = xgb.XGBClassifier(objective='multi:softprob',\n",
        "                          learning_rate=0.5,\n",
        "                        max_depth=1, \n",
        "                        min_child_weight=1, \n",
        "                        n_estimators=400, nthread=1, \n",
        "                        subsample=0.9000000000000001)"
      ],
      "execution_count": 99,
      "outputs": []
    },
    {
      "cell_type": "markdown",
      "metadata": {
        "id": "z_p4OHh8-l9e"
      },
      "source": [
        "#### Testando o classificador baseado em árvore de decisão"
      ]
    },
    {
      "cell_type": "code",
      "metadata": {
        "id": "ql82xwUo-l9e",
        "colab": {
          "base_uri": "https://localhost:8080/"
        },
        "outputId": "e6c25be4-52ec-42ec-eb17-dce2653dbb74"
      },
      "source": [
        "# Treino do modelo (é chamado o método *fit()* com os conjuntos de treino)\n",
        "model.fit(\n",
        "    X_train,\n",
        "    y_train\n",
        ")"
      ],
      "execution_count": 122,
      "outputs": [
        {
          "output_type": "stream",
          "text": [
            "/usr/local/lib/python3.6/dist-packages/sklearn/preprocessing/_label.py:235: DataConversionWarning: A column-vector y was passed when a 1d array was expected. Please change the shape of y to (n_samples, ), for example using ravel().\n",
            "  y = column_or_1d(y, warn=True)\n",
            "/usr/local/lib/python3.6/dist-packages/sklearn/preprocessing/_label.py:268: DataConversionWarning: A column-vector y was passed when a 1d array was expected. Please change the shape of y to (n_samples, ), for example using ravel().\n",
            "  y = column_or_1d(y, warn=True)\n"
          ],
          "name": "stderr"
        },
        {
          "output_type": "execute_result",
          "data": {
            "text/plain": [
              "XGBClassifier(base_score=0.5, booster='gbtree', colsample_bylevel=1,\n",
              "              colsample_bynode=1, colsample_bytree=1, gamma=0,\n",
              "              learning_rate=0.5, max_delta_step=0, max_depth=1,\n",
              "              min_child_weight=1, missing=None, n_estimators=400, n_jobs=1,\n",
              "              nthread=1, objective='multi:softprob', random_state=0,\n",
              "              reg_alpha=0, reg_lambda=1, scale_pos_weight=1, seed=None,\n",
              "              silent=None, subsample=0.9000000000000001, verbosity=1)"
            ]
          },
          "metadata": {
            "tags": []
          },
          "execution_count": 122
        }
      ]
    },
    {
      "cell_type": "markdown",
      "metadata": {
        "id": "n2FCNVLI-l9f"
      },
      "source": [
        "#### Execução de predições e avaliação da árvore de decisão"
      ]
    },
    {
      "cell_type": "code",
      "metadata": {
        "id": "B8DUXnO1-l9f"
      },
      "source": [
        "# Realização de teste cego no modelo criado\n",
        "y_pred = model.predict(X_test)"
      ],
      "execution_count": 123,
      "outputs": []
    },
    {
      "cell_type": "code",
      "metadata": {
        "id": "2HS2SzD4-l9g",
        "colab": {
          "base_uri": "https://localhost:8080/"
        },
        "outputId": "6db8b751-0fdb-4e79-f83a-3405be4b7988"
      },
      "source": [
        "print(y_pred)"
      ],
      "execution_count": 119,
      "outputs": [
        {
          "output_type": "stream",
          "text": [
            "['EXCELENTE' 'DIFICULDADE' 'HUMANAS' ... 'EXCELENTE' 'EXATAS'\n",
            " 'DIFICULDADE']\n"
          ],
          "name": "stdout"
        }
      ]
    },
    {
      "cell_type": "code",
      "metadata": {
        "id": "DxOZ_3f4-l9g",
        "colab": {
          "base_uri": "https://localhost:8080/"
        },
        "outputId": "6b30fc89-1a26-42f0-a279-6a7a89008e62"
      },
      "source": [
        "from sklearn.metrics import accuracy_score\n",
        "\n",
        "# Acurácia alcançada pela árvore de decisão\n",
        "print(\"Acurácia: {}%\".format(100*round(accuracy_score(y_test, y_pred), 2)))\n",
        "print(classification_report(y_test, y_pred))"
      ],
      "execution_count": 124,
      "outputs": [
        {
          "output_type": "stream",
          "text": [
            "Acurácia: 81.0%\n",
            "              precision    recall  f1-score   support\n",
            "\n",
            " DIFICULDADE       0.88      0.74      0.80      1690\n",
            "      EXATAS       0.81      0.91      0.86      2039\n",
            "   EXCELENTE       0.62      0.61      0.62       170\n",
            "     HUMANAS       0.76      0.95      0.84       772\n",
            "   MUITO_BOM       0.36      0.06      0.10       215\n",
            "\n",
            "    accuracy                           0.81      4886\n",
            "   macro avg       0.69      0.65      0.65      4886\n",
            "weighted avg       0.80      0.81      0.79      4886\n",
            "\n"
          ],
          "name": "stdout"
        }
      ]
    },
    {
      "cell_type": "markdown",
      "metadata": {
        "id": "YHiPF16f-l9g"
      },
      "source": [
        "<hr>\n",
        "\n",
        "## Scoring dos dados necessários para entregar a solução"
      ]
    },
    {
      "cell_type": "markdown",
      "metadata": {
        "id": "wyqHoT_g-l9h"
      },
      "source": [
        "Como entrega da sua solução, esperamos os resultados classificados no seguinte dataset chamado \"to_be_scored.csv\":"
      ]
    },
    {
      "cell_type": "markdown",
      "metadata": {
        "id": "Ap7yf5X1-l9h"
      },
      "source": [
        "### Download da \"folha de respostas\""
      ]
    },
    {
      "cell_type": "code",
      "metadata": {
        "id": "YNoT3-4N-l9h",
        "outputId": "8be01410-9481-40a4-f830-fbb17d2f56bc"
      },
      "source": [
        "#!wget --no-check-certificate --content-disposition https://raw.githubusercontent.com/vanderlei-test/dataset-uninassau/master/to_be_scored_uninassau.csv\n",
        "import urllib.request\n",
        "url = 'https://raw.githubusercontent.com/vanderlei-test/dataset-uninassau/master/to_be_scored_uninassau.csv'\n",
        "filename = 'to_be_scored_uninassau.csv'\n",
        "urllib.request.urlretrieve(url, filename)\n",
        "    \n",
        "df_to_be_scored = pd.read_csv(r'to_be_scored_uninassau.csv')\n",
        "df_to_be_scored.tail()"
      ],
      "execution_count": null,
      "outputs": [
        {
          "output_type": "execute_result",
          "data": {
            "text/html": [
              "<div>\n",
              "<style scoped>\n",
              "    .dataframe tbody tr th:only-of-type {\n",
              "        vertical-align: middle;\n",
              "    }\n",
              "\n",
              "    .dataframe tbody tr th {\n",
              "        vertical-align: top;\n",
              "    }\n",
              "\n",
              "    .dataframe thead th {\n",
              "        text-align: right;\n",
              "    }\n",
              "</style>\n",
              "<table border=\"1\" class=\"dataframe\">\n",
              "  <thead>\n",
              "    <tr style=\"text-align: right;\">\n",
              "      <th></th>\n",
              "      <th>MATRICULA</th>\n",
              "      <th>NOME</th>\n",
              "      <th>REPROVACOES_DE</th>\n",
              "      <th>REPROVACOES_EM</th>\n",
              "      <th>REPROVACOES_MF</th>\n",
              "      <th>REPROVACOES_GO</th>\n",
              "      <th>NOTA_DE</th>\n",
              "      <th>NOTA_EM</th>\n",
              "      <th>NOTA_MF</th>\n",
              "      <th>NOTA_GO</th>\n",
              "      <th>INGLES</th>\n",
              "      <th>H_AULA_PRES</th>\n",
              "      <th>TAREFAS_ONLINE</th>\n",
              "      <th>FALTAS</th>\n",
              "    </tr>\n",
              "  </thead>\n",
              "  <tbody>\n",
              "    <tr>\n",
              "      <th>495</th>\n",
              "      <td>940576</td>\n",
              "      <td>Samuel Bahia Cranulunan</td>\n",
              "      <td>0</td>\n",
              "      <td>0</td>\n",
              "      <td>0</td>\n",
              "      <td>0</td>\n",
              "      <td>6.3</td>\n",
              "      <td>5.3</td>\n",
              "      <td>7.0</td>\n",
              "      <td>5.6</td>\n",
              "      <td>1</td>\n",
              "      <td>4</td>\n",
              "      <td>0</td>\n",
              "      <td>8</td>\n",
              "    </tr>\n",
              "    <tr>\n",
              "      <th>496</th>\n",
              "      <td>682956</td>\n",
              "      <td>Samuel de Linhares</td>\n",
              "      <td>0</td>\n",
              "      <td>0</td>\n",
              "      <td>0</td>\n",
              "      <td>0</td>\n",
              "      <td>5.7</td>\n",
              "      <td>5.9</td>\n",
              "      <td>5.8</td>\n",
              "      <td>5.0</td>\n",
              "      <td>1</td>\n",
              "      <td>1</td>\n",
              "      <td>1</td>\n",
              "      <td>6</td>\n",
              "    </tr>\n",
              "    <tr>\n",
              "      <th>497</th>\n",
              "      <td>850896</td>\n",
              "      <td>Gigi Olga de Oliveira</td>\n",
              "      <td>0</td>\n",
              "      <td>0</td>\n",
              "      <td>0</td>\n",
              "      <td>0</td>\n",
              "      <td>6.7</td>\n",
              "      <td>7.1</td>\n",
              "      <td>5.7</td>\n",
              "      <td>6.3</td>\n",
              "      <td>0</td>\n",
              "      <td>16</td>\n",
              "      <td>6</td>\n",
              "      <td>3</td>\n",
              "    </tr>\n",
              "    <tr>\n",
              "      <th>498</th>\n",
              "      <td>525876</td>\n",
              "      <td>Marta Oaman</td>\n",
              "      <td>0</td>\n",
              "      <td>0</td>\n",
              "      <td>0</td>\n",
              "      <td>0</td>\n",
              "      <td>6.7</td>\n",
              "      <td>7.2</td>\n",
              "      <td>5.2</td>\n",
              "      <td>5.7</td>\n",
              "      <td>1</td>\n",
              "      <td>10</td>\n",
              "      <td>3</td>\n",
              "      <td>5</td>\n",
              "    </tr>\n",
              "    <tr>\n",
              "      <th>499</th>\n",
              "      <td>867666</td>\n",
              "      <td>Eliel Jardel da Costa Sanches</td>\n",
              "      <td>0</td>\n",
              "      <td>0</td>\n",
              "      <td>0</td>\n",
              "      <td>0</td>\n",
              "      <td>7.1</td>\n",
              "      <td>6.8</td>\n",
              "      <td>6.5</td>\n",
              "      <td>6.0</td>\n",
              "      <td>1</td>\n",
              "      <td>5</td>\n",
              "      <td>3</td>\n",
              "      <td>6</td>\n",
              "    </tr>\n",
              "  </tbody>\n",
              "</table>\n",
              "</div>"
            ],
            "text/plain": [
              "     MATRICULA                           NOME  REPROVACOES_DE  REPROVACOES_EM  \\\n",
              "495     940576        Samuel Bahia Cranulunan               0               0   \n",
              "496     682956             Samuel de Linhares               0               0   \n",
              "497     850896          Gigi Olga de Oliveira               0               0   \n",
              "498     525876                    Marta Oaman               0               0   \n",
              "499     867666  Eliel Jardel da Costa Sanches               0               0   \n",
              "\n",
              "     REPROVACOES_MF  REPROVACOES_GO  NOTA_DE  NOTA_EM  NOTA_MF  NOTA_GO  \\\n",
              "495               0               0      6.3      5.3      7.0      5.6   \n",
              "496               0               0      5.7      5.9      5.8      5.0   \n",
              "497               0               0      6.7      7.1      5.7      6.3   \n",
              "498               0               0      6.7      7.2      5.2      5.7   \n",
              "499               0               0      7.1      6.8      6.5      6.0   \n",
              "\n",
              "     INGLES  H_AULA_PRES  TAREFAS_ONLINE  FALTAS  \n",
              "495       1            4               0       8  \n",
              "496       1            1               1       6  \n",
              "497       0           16               6       3  \n",
              "498       1           10               3       5  \n",
              "499       1            5               3       6  "
            ]
          },
          "metadata": {
            "tags": []
          },
          "execution_count": 43
        }
      ]
    },
    {
      "cell_type": "markdown",
      "metadata": {
        "id": "8J3c-DmV-l9i"
      },
      "source": [
        "# Atenção!\n",
        "\n",
        "O dataframe ``to_be_scored`` é a sua \"folha de respostas\". Note que a coluna \"PERFIL\" não existe nessa amostra, que não pode ser então utilizada para treino de modelos de aprendizado supervisionado."
      ]
    },
    {
      "cell_type": "code",
      "metadata": {
        "id": "9D1qyi4V-l9i",
        "outputId": "69683353-a950-4cb9-d46b-4674d7af7335"
      },
      "source": [
        "df_to_be_scored.info()"
      ],
      "execution_count": null,
      "outputs": [
        {
          "output_type": "stream",
          "text": [
            "<class 'pandas.core.frame.DataFrame'>\n",
            "RangeIndex: 500 entries, 0 to 499\n",
            "Data columns (total 14 columns):\n",
            " #   Column          Non-Null Count  Dtype  \n",
            "---  ------          --------------  -----  \n",
            " 0   MATRICULA       500 non-null    int64  \n",
            " 1   NOME            500 non-null    object \n",
            " 2   REPROVACOES_DE  500 non-null    int64  \n",
            " 3   REPROVACOES_EM  500 non-null    int64  \n",
            " 4   REPROVACOES_MF  500 non-null    int64  \n",
            " 5   REPROVACOES_GO  500 non-null    int64  \n",
            " 6   NOTA_DE         500 non-null    float64\n",
            " 7   NOTA_EM         500 non-null    float64\n",
            " 8   NOTA_MF         500 non-null    float64\n",
            " 9   NOTA_GO         500 non-null    float64\n",
            " 10  INGLES          500 non-null    int64  \n",
            " 11  H_AULA_PRES     500 non-null    int64  \n",
            " 12  TAREFAS_ONLINE  500 non-null    int64  \n",
            " 13  FALTAS          500 non-null    int64  \n",
            "dtypes: float64(4), int64(9), object(1)\n",
            "memory usage: 54.8+ KB\n"
          ],
          "name": "stdout"
        }
      ]
    },
    {
      "cell_type": "markdown",
      "metadata": {
        "id": "T8LLtOuX-l9i"
      },
      "source": [
        "<hr>\n",
        "\n",
        "# Atenção!\n",
        "\n",
        "# Para poder aplicar seu modelo e classificar a folha de respostas, você precisa primeiro aplicar as mesmas transformações com colunas que você aplicou no dataset de treino.\n",
        "\n",
        "<hr>"
      ]
    },
    {
      "cell_type": "markdown",
      "metadata": {
        "id": "9JF0EsMV-l9i"
      },
      "source": [
        "Na célula abaixo, repetimos rapidamente os mesmos passos de pré-processamento usados no exemplo dado com árvore de decisão"
      ]
    },
    {
      "cell_type": "code",
      "metadata": {
        "id": "AlpF9nZd-l9j",
        "outputId": "2617ee4a-0a7f-485e-975c-fbb986322f97"
      },
      "source": [
        "# Aplicando a transformação ``DropColumns`` ao conjunto de dados base\n",
        "rm_columns.fit(X=df_to_be_scored)\n",
        "\n",
        "# Reconstruindo um DataFrame Pandas com o resultado da transformação\n",
        "df_to_be_scored_2 = pd.DataFrame.from_records(\n",
        "    data=rm_columns.transform(\n",
        "        X=df_to_be_scored\n",
        "    ),\n",
        ")\n",
        "\n",
        "df_to_be_scored_3 = pd.DataFrame.from_records(cm.fit_transform(df_to_be_scored_2))\n",
        "df_to_be_scored_4 = pd.DataFrame.from_records(ch.fit_transform(df_to_be_scored_3))\n",
        "df_to_be_scored_5 = pd.DataFrame.from_records(ce.fit_transform(df_to_be_scored_4))\n",
        "\n",
        "df_to_be_scored_5.tail()"
      ],
      "execution_count": null,
      "outputs": [
        {
          "output_type": "execute_result",
          "data": {
            "text/html": [
              "<div>\n",
              "<style scoped>\n",
              "    .dataframe tbody tr th:only-of-type {\n",
              "        vertical-align: middle;\n",
              "    }\n",
              "\n",
              "    .dataframe tbody tr th {\n",
              "        vertical-align: top;\n",
              "    }\n",
              "\n",
              "    .dataframe thead th {\n",
              "        text-align: right;\n",
              "    }\n",
              "</style>\n",
              "<table border=\"1\" class=\"dataframe\">\n",
              "  <thead>\n",
              "    <tr style=\"text-align: right;\">\n",
              "      <th></th>\n",
              "      <th>NOTA_DE</th>\n",
              "      <th>NOTA_EM</th>\n",
              "      <th>NOTA_MF</th>\n",
              "      <th>NOTA_GO</th>\n",
              "      <th>COMB_NOTAS</th>\n",
              "      <th>COMB_HUMANAS</th>\n",
              "      <th>COMB_EXATAS</th>\n",
              "    </tr>\n",
              "  </thead>\n",
              "  <tbody>\n",
              "    <tr>\n",
              "      <th>495</th>\n",
              "      <td>6.3</td>\n",
              "      <td>5.3</td>\n",
              "      <td>7.0</td>\n",
              "      <td>5.6</td>\n",
              "      <td>6.05</td>\n",
              "      <td>5.80</td>\n",
              "      <td>6.30</td>\n",
              "    </tr>\n",
              "    <tr>\n",
              "      <th>496</th>\n",
              "      <td>5.7</td>\n",
              "      <td>5.9</td>\n",
              "      <td>5.8</td>\n",
              "      <td>5.0</td>\n",
              "      <td>5.60</td>\n",
              "      <td>5.80</td>\n",
              "      <td>5.40</td>\n",
              "    </tr>\n",
              "    <tr>\n",
              "      <th>497</th>\n",
              "      <td>6.7</td>\n",
              "      <td>7.1</td>\n",
              "      <td>5.7</td>\n",
              "      <td>6.3</td>\n",
              "      <td>6.45</td>\n",
              "      <td>6.90</td>\n",
              "      <td>6.00</td>\n",
              "    </tr>\n",
              "    <tr>\n",
              "      <th>498</th>\n",
              "      <td>6.7</td>\n",
              "      <td>7.2</td>\n",
              "      <td>5.2</td>\n",
              "      <td>5.7</td>\n",
              "      <td>6.20</td>\n",
              "      <td>6.95</td>\n",
              "      <td>5.45</td>\n",
              "    </tr>\n",
              "    <tr>\n",
              "      <th>499</th>\n",
              "      <td>7.1</td>\n",
              "      <td>6.8</td>\n",
              "      <td>6.5</td>\n",
              "      <td>6.0</td>\n",
              "      <td>6.60</td>\n",
              "      <td>6.95</td>\n",
              "      <td>6.25</td>\n",
              "    </tr>\n",
              "  </tbody>\n",
              "</table>\n",
              "</div>"
            ],
            "text/plain": [
              "     NOTA_DE  NOTA_EM  NOTA_MF  NOTA_GO  COMB_NOTAS  COMB_HUMANAS  COMB_EXATAS\n",
              "495      6.3      5.3      7.0      5.6        6.05          5.80         6.30\n",
              "496      5.7      5.9      5.8      5.0        5.60          5.80         5.40\n",
              "497      6.7      7.1      5.7      6.3        6.45          6.90         6.00\n",
              "498      6.7      7.2      5.2      5.7        6.20          6.95         5.45\n",
              "499      7.1      6.8      6.5      6.0        6.60          6.95         6.25"
            ]
          },
          "metadata": {
            "tags": []
          },
          "execution_count": 45
        }
      ]
    },
    {
      "cell_type": "markdown",
      "metadata": {
        "id": "QpK6rd23-l9j"
      },
      "source": [
        "<hr>\n",
        "\n",
        "Pode ser verificado abaixo que as colunas da folha de resposta agora são idênticas às que foram usadas para treinar o modelo:"
      ]
    },
    {
      "cell_type": "code",
      "metadata": {
        "id": "Lb5RVCmH-l9j",
        "outputId": "d9a670da-ba76-4289-a7f5-fc8e4fc3b17c"
      },
      "source": [
        "df_to_be_scored_5.columns"
      ],
      "execution_count": null,
      "outputs": [
        {
          "output_type": "execute_result",
          "data": {
            "text/plain": [
              "Index(['NOTA_DE', 'NOTA_EM', 'NOTA_MF', 'NOTA_GO', 'COMB_NOTAS',\n",
              "       'COMB_HUMANAS', 'COMB_EXATAS'],\n",
              "      dtype='object')"
            ]
          },
          "metadata": {
            "tags": []
          },
          "execution_count": 46
        }
      ]
    },
    {
      "cell_type": "markdown",
      "metadata": {
        "id": "ET5TB7Kt-l9k"
      },
      "source": [
        "### Executando as predições na \"folha de respostas\""
      ]
    },
    {
      "cell_type": "code",
      "metadata": {
        "id": "k2VnpGY7-l9k",
        "outputId": "358b96b3-1074-4cb5-83ad-8d704cf4eef6"
      },
      "source": [
        "y_pred = model.predict(df_to_be_scored_5)\n",
        "df_to_be_scored_5['target'] = y_pred\n",
        "df_to_be_scored_5.tail()"
      ],
      "execution_count": null,
      "outputs": [
        {
          "output_type": "execute_result",
          "data": {
            "text/html": [
              "<div>\n",
              "<style scoped>\n",
              "    .dataframe tbody tr th:only-of-type {\n",
              "        vertical-align: middle;\n",
              "    }\n",
              "\n",
              "    .dataframe tbody tr th {\n",
              "        vertical-align: top;\n",
              "    }\n",
              "\n",
              "    .dataframe thead th {\n",
              "        text-align: right;\n",
              "    }\n",
              "</style>\n",
              "<table border=\"1\" class=\"dataframe\">\n",
              "  <thead>\n",
              "    <tr style=\"text-align: right;\">\n",
              "      <th></th>\n",
              "      <th>NOTA_DE</th>\n",
              "      <th>NOTA_EM</th>\n",
              "      <th>NOTA_MF</th>\n",
              "      <th>NOTA_GO</th>\n",
              "      <th>COMB_NOTAS</th>\n",
              "      <th>COMB_HUMANAS</th>\n",
              "      <th>COMB_EXATAS</th>\n",
              "      <th>target</th>\n",
              "    </tr>\n",
              "  </thead>\n",
              "  <tbody>\n",
              "    <tr>\n",
              "      <th>495</th>\n",
              "      <td>6.3</td>\n",
              "      <td>5.3</td>\n",
              "      <td>7.0</td>\n",
              "      <td>5.6</td>\n",
              "      <td>6.05</td>\n",
              "      <td>5.80</td>\n",
              "      <td>6.30</td>\n",
              "      <td>HUMANAS</td>\n",
              "    </tr>\n",
              "    <tr>\n",
              "      <th>496</th>\n",
              "      <td>5.7</td>\n",
              "      <td>5.9</td>\n",
              "      <td>5.8</td>\n",
              "      <td>5.0</td>\n",
              "      <td>5.60</td>\n",
              "      <td>5.80</td>\n",
              "      <td>5.40</td>\n",
              "      <td>EXATAS</td>\n",
              "    </tr>\n",
              "    <tr>\n",
              "      <th>497</th>\n",
              "      <td>6.7</td>\n",
              "      <td>7.1</td>\n",
              "      <td>5.7</td>\n",
              "      <td>6.3</td>\n",
              "      <td>6.45</td>\n",
              "      <td>6.90</td>\n",
              "      <td>6.00</td>\n",
              "      <td>EXATAS</td>\n",
              "    </tr>\n",
              "    <tr>\n",
              "      <th>498</th>\n",
              "      <td>6.7</td>\n",
              "      <td>7.2</td>\n",
              "      <td>5.2</td>\n",
              "      <td>5.7</td>\n",
              "      <td>6.20</td>\n",
              "      <td>6.95</td>\n",
              "      <td>5.45</td>\n",
              "      <td>EXATAS</td>\n",
              "    </tr>\n",
              "    <tr>\n",
              "      <th>499</th>\n",
              "      <td>7.1</td>\n",
              "      <td>6.8</td>\n",
              "      <td>6.5</td>\n",
              "      <td>6.0</td>\n",
              "      <td>6.60</td>\n",
              "      <td>6.95</td>\n",
              "      <td>6.25</td>\n",
              "      <td>EXATAS</td>\n",
              "    </tr>\n",
              "  </tbody>\n",
              "</table>\n",
              "</div>"
            ],
            "text/plain": [
              "     NOTA_DE  NOTA_EM  NOTA_MF  NOTA_GO  COMB_NOTAS  COMB_HUMANAS  \\\n",
              "495      6.3      5.3      7.0      5.6        6.05          5.80   \n",
              "496      5.7      5.9      5.8      5.0        5.60          5.80   \n",
              "497      6.7      7.1      5.7      6.3        6.45          6.90   \n",
              "498      6.7      7.2      5.2      5.7        6.20          6.95   \n",
              "499      7.1      6.8      6.5      6.0        6.60          6.95   \n",
              "\n",
              "     COMB_EXATAS   target  \n",
              "495         6.30  HUMANAS  \n",
              "496         5.40   EXATAS  \n",
              "497         6.00   EXATAS  \n",
              "498         5.45   EXATAS  \n",
              "499         6.25   EXATAS  "
            ]
          },
          "metadata": {
            "tags": []
          },
          "execution_count": 47
        }
      ]
    },
    {
      "cell_type": "markdown",
      "metadata": {
        "id": "i9_cHgoY-l9k"
      },
      "source": [
        "### Salvando a folha de respostas como um arquivo .csv para ser submetido"
      ]
    },
    {
      "cell_type": "code",
      "metadata": {
        "id": "Ituzy_dP-l9l"
      },
      "source": [
        "# project.save_data(file_name=\"results.csv\", data=df_to_be_scored_3.to_csv(index=False))\n",
        "df_to_be_scored_5.to_csv('results.csv',index=False)"
      ],
      "execution_count": null,
      "outputs": []
    },
    {
      "cell_type": "markdown",
      "metadata": {
        "id": "VYQDQFpK-l9l"
      },
      "source": [
        "# Atenção\n",
        "\n",
        "# A execução da célula acima irá criar um novo \"data asset\" no seu projeto no Watson Studio. Você precisará realizar o download deste arquivo juntamente com este notebook e criar um arquivo zip com os arquivos **results.csv** e **notebook.ipynb** para submissão. (os arquivos devem estar nomeados desta forma)"
      ]
    },
    {
      "cell_type": "markdown",
      "metadata": {
        "id": "iCH03Hp_-l9l"
      },
      "source": [
        "<hr>\n",
        "\n",
        "## Parabéns!\n",
        "\n",
        "Se você já está satisfeito com a sua solução, vá até a página abaixo e envie os arquivos necessários para submissão.\n",
        "\n",
        "# https://uninassau.maratona.dev\n"
      ]
    },
    {
      "cell_type": "code",
      "metadata": {
        "id": "g0k4gbMU-l9m"
      },
      "source": [
        ""
      ],
      "execution_count": null,
      "outputs": []
    },
    {
      "cell_type": "code",
      "metadata": {
        "id": "IOxpG6KR-l9m"
      },
      "source": [
        ""
      ],
      "execution_count": null,
      "outputs": []
    }
  ]
}